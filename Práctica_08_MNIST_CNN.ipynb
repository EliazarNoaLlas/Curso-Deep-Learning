{
  "cells": [
    {
      "cell_type": "markdown",
      "metadata": {
        "id": "RVek-SJOFc5c"
      },
      "source": [
        "## **Universidad Nacional de San Antonio Abad del Cusco**\n",
        "### **Departamento Académico de Ing.Informática**\n",
        "# **Deep Learning**\n",
        "## Práctica 08\n",
        "\n",
        "## **REDES NEURONALES CONVOLUCIONALES (CNN)**"
      ]
    },
    {
      "cell_type": "markdown",
      "metadata": {
        "id": "5g1OfqsMSyNL"
      },
      "source": [
        "**1.\tImporte tensorflow.keras.datasets.mnist como mnist:**"
      ]
    },
    {
      "cell_type": "code",
      "execution_count": 1,
      "metadata": {
        "id": "L-fa1mkcRFYN"
      },
      "outputs": [],
      "source": [
        "import tensorflow.keras.datasets.mnist as mnist"
      ]
    },
    {
      "cell_type": "markdown",
      "metadata": {
        "id": "rvweCdlyS-sH"
      },
      "source": [
        "**2.\tCargue el conjunto de datos mnist usando mnist.load_data() y guarde los resultados en (features_train, label_train), (features_test, label_test):**"
      ]
    },
    {
      "cell_type": "code",
      "execution_count": 2,
      "metadata": {
        "colab": {
          "base_uri": "https://localhost:8080/"
        },
        "id": "M0u5RUFIRFYR",
        "outputId": "70b7d007-8907-49d6-9679-c52d3495b65b"
      },
      "outputs": [],
      "source": [
        "(features_train, label_train), (features_test, label_test) = mnist.load_data()"
      ]
    },
    {
      "cell_type": "markdown",
      "metadata": {
        "id": "0T3TSz-RTMaF"
      },
      "source": [
        "**3.\tImprime el contenido de label_train:**"
      ]
    },
    {
      "cell_type": "code",
      "execution_count": 3,
      "metadata": {
        "colab": {
          "base_uri": "https://localhost:8080/"
        },
        "id": "UgCa3innRFYS",
        "outputId": "bf48f6e8-7cdf-45f8-9eb6-a95e96c74ecb"
      },
      "outputs": [
        {
          "data": {
            "text/plain": [
              "array([5, 0, 4, ..., 5, 6, 8], dtype=uint8)"
            ]
          },
          "execution_count": 3,
          "metadata": {},
          "output_type": "execute_result"
        }
      ],
      "source": [
        "label_train"
      ]
    },
    {
      "cell_type": "markdown",
      "metadata": {
        "id": "itvNoEjLTSKq"
      },
      "source": [
        "**4.\tImprime la forma del conjunto de entrenamiento:**"
      ]
    },
    {
      "cell_type": "code",
      "execution_count": 4,
      "metadata": {
        "colab": {
          "base_uri": "https://localhost:8080/"
        },
        "id": "vnTclEYDRFYT",
        "outputId": "c8eda4fd-cee6-4339-b274-c7b547a72028"
      },
      "outputs": [
        {
          "data": {
            "text/plain": [
              "(60000, 28, 28)"
            ]
          },
          "execution_count": 4,
          "metadata": {},
          "output_type": "execute_result"
        }
      ],
      "source": [
        "features_train.shape"
      ]
    },
    {
      "cell_type": "markdown",
      "metadata": {
        "id": "zGtO4318TZvC"
      },
      "source": [
        "**5.\tImprima la forma del conjunto de prueba:**"
      ]
    },
    {
      "cell_type": "code",
      "execution_count": 5,
      "metadata": {
        "colab": {
          "base_uri": "https://localhost:8080/"
        },
        "id": "UGjst6_cRFYT",
        "outputId": "9b37a7a6-6e45-4d88-db41-808433f0175b"
      },
      "outputs": [
        {
          "data": {
            "text/plain": [
              "(10000, 28, 28)"
            ]
          },
          "execution_count": 5,
          "metadata": {},
          "output_type": "execute_result"
        }
      ],
      "source": [
        "features_test.shape"
      ]
    },
    {
      "attachments": {},
      "cell_type": "markdown",
      "metadata": {
        "id": "dP5_cARrTgj5"
      },
      "source": [
        "**6.\tCambie la forma de los conjuntos de entrenamiento y prueba con las dimensiones (number_observations, 32, 32, 1):**"
      ]
    },
    {
      "cell_type": "code",
      "execution_count": 6,
      "metadata": {
        "id": "VqGjK5IdRFYU"
      },
      "outputs": [
        {
          "ename": "ValueError",
          "evalue": "cannot reshape array of size 47040000 into shape (60000,32,32,1)",
          "output_type": "error",
          "traceback": [
            "\u001b[1;31m---------------------------------------------------------------------------\u001b[0m",
            "\u001b[1;31mValueError\u001b[0m                                Traceback (most recent call last)",
            "\u001b[1;32mc:\\Users\\HP\\Desktop\\DeepLearning-Course\\Práctica_08_MNIST_CNN.ipynb Celda 13\u001b[0m in \u001b[0;36m1\n\u001b[1;32m----> <a href='vscode-notebook-cell:/c%3A/Users/HP/Desktop/DeepLearning-Course/Pr%C3%A1ctica_08_MNIST_CNN.ipynb#X15sZmlsZQ%3D%3D?line=0'>1</a>\u001b[0m features_train \u001b[39m=\u001b[39m features_train\u001b[39m.\u001b[39;49mreshape(\u001b[39m60000\u001b[39;49m, \u001b[39m32\u001b[39;49m, \u001b[39m32\u001b[39;49m, \u001b[39m1\u001b[39;49m)\n\u001b[0;32m      <a href='vscode-notebook-cell:/c%3A/Users/HP/Desktop/DeepLearning-Course/Pr%C3%A1ctica_08_MNIST_CNN.ipynb#X15sZmlsZQ%3D%3D?line=1'>2</a>\u001b[0m features_test \u001b[39m=\u001b[39m features_test\u001b[39m.\u001b[39mreshape(\u001b[39m10000\u001b[39m, \u001b[39m32\u001b[39m, \u001b[39m32\u001b[39m, \u001b[39m1\u001b[39m)\n",
            "\u001b[1;31mValueError\u001b[0m: cannot reshape array of size 47040000 into shape (60000,32,32,1)"
          ]
        }
      ],
      "source": [
        "features_train = features_train.reshape(60000, 32, 32, 1)\n",
        "features_test = features_test.reshape(10000, 32, 32, 1)"
      ]
    },
    {
      "cell_type": "code",
      "execution_count": null,
      "metadata": {},
      "outputs": [],
      "source": [
        "import matplotlib.pyplot as plt\n",
        "plt.imshow(x_train[10000])\n",
        "print(\"Class: \", y_train[10000])"
      ]
    },
    {
      "cell_type": "markdown",
      "metadata": {
        "id": "MgRJpcQDTncM"
      },
      "source": [
        "**7.\tEstandarice features_train y features_test dividiéndolos entre 255:**"
      ]
    },
    {
      "cell_type": "code",
      "execution_count": null,
      "metadata": {
        "id": "f4ABKN7oRFYU"
      },
      "outputs": [],
      "source": [
        "features_train = features_train / 255.0\n",
        "features_test = features_test / 255.0"
      ]
    },
    {
      "cell_type": "markdown",
      "metadata": {
        "id": "UPI0o85vTt32"
      },
      "source": [
        "**8.\tImporte numpy como np, tensorflow como tf y layers de tensorflow.keras:**"
      ]
    },
    {
      "cell_type": "code",
      "execution_count": null,
      "metadata": {
        "id": "pk6D4y4jRFYV"
      },
      "outputs": [],
      "source": [
        "import numpy as np\n",
        "import tensorflow as tf\n",
        "from tensorflow.keras import layers"
      ]
    },
    {
      "cell_type": "markdown",
      "metadata": {
        "id": "6QiD88HPTz7S"
      },
      "source": [
        "**9.\tEstablezca 8 como semilla para numpy y tensorflow usando np.random_seed() y tf.random.set_seed (), respectivamente:**"
      ]
    },
    {
      "cell_type": "code",
      "execution_count": null,
      "metadata": {
        "id": "mMDKgtBeRFYW"
      },
      "outputs": [],
      "source": [
        "np.random.seed(8)\n",
        "tf.random.set_seed(8)"
      ]
    },
    {
      "cell_type": "markdown",
      "metadata": {
        "id": "iSSJIhrXT5bc"
      },
      "source": [
        "**10.\tCree una instancia de una clase tf.keras.Sequential () y guárdela en una variable llamada modelo:**"
      ]
    },
    {
      "cell_type": "code",
      "execution_count": null,
      "metadata": {
        "id": "IXEeblb9RFYW"
      },
      "outputs": [],
      "source": [
        "model = tf.keras.Sequential()"
      ]
    },
    {
      "cell_type": "markdown",
      "metadata": {
        "id": "Axf7lJ3gT-1-"
      },
      "source": [
        "**11.\tCree una instancia de una clase layer.Conv2D () con 64 kernels de forma (3,3), activación = 'relu' y input_shape = (28,28,1), y guárdelo en una variable llamada conv_layer1:**"
      ]
    },
    {
      "cell_type": "code",
      "execution_count": null,
      "metadata": {
        "id": "mdRG6Pd5RFYX"
      },
      "outputs": [],
      "source": [
        "conv_layer1 = layers.Conv2D(64, (3,3), activation='relu', input_shape=(28, 28, 1))"
      ]
    },
    {
      "cell_type": "markdown",
      "metadata": {
        "id": "UUxa6vf3UEVB"
      },
      "source": [
        "**12.\tCree una instancia de una clase layer.Conv2D () con 64 núcleos de forma (3,3) y activación = 'relu' y guárdela en una variable llamada conv_layer2:**"
      ]
    },
    {
      "cell_type": "code",
      "execution_count": null,
      "metadata": {
        "id": "gUCcNvimRFYX"
      },
      "outputs": [],
      "source": [
        "conv_layer2 = layers.Conv2D(64, (3,3), activation='relu')"
      ]
    },
    {
      "cell_type": "markdown",
      "metadata": {
        "id": "08iYIv2ZUKUX"
      },
      "source": [
        "**13.\tCree una instancia de la clase layer.Dense () con 128 neuronas, activación = 'relu', y guárdela en una variable llamada fc_layer1:**"
      ]
    },
    {
      "cell_type": "code",
      "execution_count": null,
      "metadata": {
        "id": "RV3WASh9RFYY"
      },
      "outputs": [],
      "source": [
        "fc_layer1 = layers.Dense(128, activation='relu')"
      ]
    },
    {
      "cell_type": "markdown",
      "metadata": {
        "id": "Gtrq5G4fUPFd"
      },
      "source": [
        "**14.\tCree una instancia de la clase layer.Dense () con 10 neuronas, activación = 'softmax', y guárdela en una variable llamada fc_layer2:**"
      ]
    },
    {
      "cell_type": "code",
      "execution_count": null,
      "metadata": {
        "id": "ltfS72nKRFYY"
      },
      "outputs": [],
      "source": [
        "fc_layer2 = layers.Dense(10, activation='softmax')"
      ]
    },
    {
      "cell_type": "markdown",
      "metadata": {
        "id": "dvEqjY9UUTcv"
      },
      "source": [
        "**15.\tAgregue las cuatro capas que acaba de definir al modelo usando .add (), agregue una capa MaxPooling2D () de tamaño (2,2) entre cada una de las capas de convolución y agregue una capa Flatten() antes de la primera capa completamente conectada para aplanar los mapas de características:**"
      ]
    },
    {
      "cell_type": "code",
      "execution_count": null,
      "metadata": {
        "id": "VitzGXyhRFYZ"
      },
      "outputs": [],
      "source": [
        "model.add(conv_layer1)\n",
        "model.add(layers.MaxPooling2D(2, 2))\n",
        "model.add(conv_layer2)\n",
        "model.add(layers.MaxPooling2D(2, 2))\n",
        "model.add(layers.Flatten())\n",
        "model.add(fc_layer1)\n",
        "model.add(fc_layer2)"
      ]
    },
    {
      "cell_type": "markdown",
      "metadata": {
        "id": "1-PDDYpAUYep"
      },
      "source": [
        "**16.\tCree una instancia de una clase tf.keras.optimizers.Adam () con 0.001 como tasa de aprendizaje y guárdela en una variable llamada optimizer:**"
      ]
    },
    {
      "cell_type": "code",
      "execution_count": null,
      "metadata": {
        "id": "-JpeIVC1RFYa"
      },
      "outputs": [],
      "source": [
        "optimizer = tf.keras.optimizers.Adam(0.001)"
      ]
    },
    {
      "cell_type": "markdown",
      "metadata": {
        "id": "kJh1xtQFUcvn"
      },
      "source": [
        "**17.\tCompile la red neuronal usando .compile() con loss = 'sparse_ categorical_crossentropy', optimizer = optimizer, metrics = ['precision']:**"
      ]
    },
    {
      "cell_type": "code",
      "execution_count": null,
      "metadata": {
        "id": "opfvr6HkRFYa"
      },
      "outputs": [],
      "source": [
        "model.compile(loss='sparse_categorical_crossentropy', optimizer=optimizer, metrics=['accuracy'])"
      ]
    },
    {
      "cell_type": "markdown",
      "metadata": {
        "id": "MDDe_8tPUhCA"
      },
      "source": [
        "**18.\tImprime el resumen del modelo:**"
      ]
    },
    {
      "cell_type": "code",
      "execution_count": null,
      "metadata": {
        "colab": {
          "base_uri": "https://localhost:8080/"
        },
        "id": "UVqX1ZGPRFYa",
        "outputId": "628084c4-dcb2-4331-810c-e0f2d8f2407f"
      },
      "outputs": [
        {
          "name": "stdout",
          "output_type": "stream",
          "text": [
            "Model: \"sequential\"\n",
            "_________________________________________________________________\n",
            " Layer (type)                Output Shape              Param #   \n",
            "=================================================================\n",
            " conv2d (Conv2D)             (None, 26, 26, 64)        640       \n",
            "                                                                 \n",
            " max_pooling2d (MaxPooling2D  (None, 13, 13, 64)       0         \n",
            " )                                                               \n",
            "                                                                 \n",
            " conv2d_1 (Conv2D)           (None, 11, 11, 64)        36928     \n",
            "                                                                 \n",
            " max_pooling2d_1 (MaxPooling  (None, 5, 5, 64)         0         \n",
            " 2D)                                                             \n",
            "                                                                 \n",
            " flatten (Flatten)           (None, 1600)              0         \n",
            "                                                                 \n",
            " dense (Dense)               (None, 128)               204928    \n",
            "                                                                 \n",
            " dense_1 (Dense)             (None, 10)                1290      \n",
            "                                                                 \n",
            "=================================================================\n",
            "Total params: 243,786\n",
            "Trainable params: 243,786\n",
            "Non-trainable params: 0\n",
            "_________________________________________________________________\n"
          ]
        }
      ],
      "source": [
        "model.summary()"
      ]
    },
    {
      "cell_type": "markdown",
      "metadata": {
        "id": "rgF_kRBmWBFB"
      },
      "source": [
        "Capa de red  | Entrada    | Filtro      |Stride     |Produce    |Fórmula  |   Parámetros\n",
        ":---         | :---:      | :---:        | :---:      | :---:     | ---:     | ---:      |   \n",
        "Input   | 28x28x1  |      |      | 28x28x1 | |0\n",
        "Conv2d|28x28x1|  3x3x64  |  1   | 26x26x64 | 3x3x1x64+64| 640\n",
        "maxpooling|26x26x64|2x2|2|13x13x64| |0\n",
        "Conv2d|13x13x64|3x3x64|1|11x11x64|3x3x64x64+64|36928\n",
        "maxpooling|11x11x64|2x2|2|5x5x64| | 0\n",
        "flatten|5x5x64| | |1600| |0\n",
        "dense|1600| | | 128|1600x128+128|204928\n",
        "dense2|128| | | 10|128*10+10|1290\n",
        "TOTAL| | | | | | 243786\n"
      ]
    },
    {
      "cell_type": "markdown",
      "metadata": {
        "id": "L0qfADwoUvfG"
      },
      "source": [
        "**19.\tAjuste las redes neuronales con el conjunto de entrenamiento y especifique epochs = 5, validation_split = 0.2 y verbose = 2:**"
      ]
    },
    {
      "cell_type": "markdown",
      "metadata": {
        "id": "0repEv-nUsn3"
      },
      "source": [
        "\n",
        "si batch_size= None, el nro de muestras es 32 en cada pasada\n",
        "por ejemplo el nro de datos es 60000, pero 20% se utilizan para validación, entonces el nro total de muestras para entrenamiento es 48000\n",
        "por consiguiente el nro de pasadas en cada iteración es 1500"
      ]
    },
    {
      "cell_type": "code",
      "execution_count": null,
      "metadata": {
        "colab": {
          "base_uri": "https://localhost:8080/"
        },
        "id": "j0GxNROfRFYb",
        "outputId": "30530d35-2a41-41c0-ee5d-e898068d08b9"
      },
      "outputs": [
        {
          "name": "stdout",
          "output_type": "stream",
          "text": [
            "Epoch 1/5\n",
            "938/938 [==============================] - 88s 93ms/step - loss: 0.1496 - accuracy: 0.9551\n",
            "Epoch 2/5\n",
            "938/938 [==============================] - 91s 97ms/step - loss: 0.0429 - accuracy: 0.9865\n",
            "Epoch 3/5\n",
            "938/938 [==============================] - 86s 92ms/step - loss: 0.0305 - accuracy: 0.9905\n",
            "Epoch 4/5\n",
            "938/938 [==============================] - 85s 90ms/step - loss: 0.0235 - accuracy: 0.9924\n",
            "Epoch 5/5\n",
            "938/938 [==============================] - 86s 92ms/step - loss: 0.0165 - accuracy: 0.9949\n"
          ]
        },
        {
          "data": {
            "text/plain": [
              "<keras.callbacks.History at 0x7f28bdbfe920>"
            ]
          },
          "execution_count": 19,
          "metadata": {},
          "output_type": "execute_result"
        }
      ],
      "source": [
        "#model.fit(features_train, label_train,batch_size=64, epochs=5, validation_split=0.2, verbose=1)\n",
        "model.fit(features_train, label_train,batch_size=64, epochs=5, verbose=1)"
      ]
    },
    {
      "cell_type": "markdown",
      "metadata": {
        "id": "_bo2jdbnU_G0"
      },
      "source": [
        "**20.\tEvaluemos el rendimiento del modelo en el conjunto de pruebas:**"
      ]
    },
    {
      "cell_type": "code",
      "execution_count": null,
      "metadata": {
        "colab": {
          "base_uri": "https://localhost:8080/"
        },
        "id": "gy74tFevRFYb",
        "outputId": "a9bffee9-acfa-47cc-a1d9-8f13745a021a"
      },
      "outputs": [
        {
          "name": "stdout",
          "output_type": "stream",
          "text": [
            "313/313 [==============================] - 5s 15ms/step - loss: 0.0309 - accuracy: 0.9908\n"
          ]
        },
        {
          "data": {
            "text/plain": [
              "[0.03091258928179741, 0.9908000230789185]"
            ]
          },
          "execution_count": 43,
          "metadata": {},
          "output_type": "execute_result"
        }
      ],
      "source": [
        "model.evaluate(features_test, label_test)"
      ]
    }
  ],
  "metadata": {
    "colab": {
      "provenance": []
    },
    "kernelspec": {
      "display_name": "Python 3",
      "language": "python",
      "name": "python3"
    },
    "language_info": {
      "codemirror_mode": {
        "name": "ipython",
        "version": 3
      },
      "file_extension": ".py",
      "mimetype": "text/x-python",
      "name": "python",
      "nbconvert_exporter": "python",
      "pygments_lexer": "ipython3",
      "version": "3.10.9"
    }
  },
  "nbformat": 4,
  "nbformat_minor": 0
}
