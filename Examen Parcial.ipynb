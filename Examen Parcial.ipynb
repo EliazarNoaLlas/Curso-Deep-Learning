{
  "cells": [
    {
      "attachments": {},
      "cell_type": "markdown",
      "metadata": {},
      "source": [
        "# UNIVERSIDAD NACIONAL DE SAN ANTONIOABAD DEL CUSCO\n",
        "# DEPARTAMENTO ACADÉMICO DE ING. INFORMÁTICA\n",
        "##  DEEP LEARNING\n",
        "## SEGUNDO EXAMEN PARCIAL 2023-1"
      ]
    },
    {
      "attachments": {},
      "cell_type": "markdown",
      "metadata": {},
      "source": [
        "## Nombre: Eliazra Noa Llasccanoa - Codigo 193003"
      ]
    },
    {
      "attachments": {},
      "cell_type": "markdown",
      "metadata": {},
      "source": [
        "## Ejercicio 1:\n",
        "### ENUNCIADO:\n",
        "1. Se necesita clasificar imágenes en escala de grises de 32 x 32 en una red neuronal \n",
        "convolucional con las siguientes capas:\n",
        "▪ Una capa convolucional C1, con 64 filtros de 5x5 y sin zero padding.\n",
        "▪ Una capa S1 de maxpooling, con 64 filtros de 2x2 y stride=2.\n",
        "▪ Una capa convolucional C2, con 128 filtros de 5x5 y sin zero padding.\n",
        "▪ Una capa S2 de maxpooling, con 128 filtros de 2x2 y stride=2.\n",
        "▪ Una red completamente conectada con una capa de 256 neuronas (Dense1), otra de \n",
        "128 (Dense2), y la capa de salida con 10 neuronas de salida.\n",
        "Determine el número de parámetros entrenables. (5 puntos)"
      ]
    },
    {
      "attachments": {},
      "cell_type": "markdown",
      "metadata": {},
      "source": [
        "**1.\tImporte tensorflow.keras.datasets.cifar10 :**"
      ]
    },
    {
      "cell_type": "code",
      "execution_count": 1,
      "metadata": {
        "colab": {
          "base_uri": "https://localhost:8080/"
        },
        "id": "k3cc0qWKB_N2",
        "outputId": "57fec1c9-8801-4c81-a092-952fa212127d"
      },
      "outputs": [],
      "source": [
        "from tensorflow.keras import datasets\n",
        "\n",
        "(x_train, y_train), (x_test, y_test) = datasets.cifar10.load_data()"
      ]
    },
    {
      "attachments": {},
      "cell_type": "markdown",
      "metadata": {},
      "source": [
        "**2.\tImprime la forma del conjunto de entrenamiento:**"
      ]
    },
    {
      "cell_type": "code",
      "execution_count": 2,
      "metadata": {
        "colab": {
          "base_uri": "https://localhost:8080/"
        },
        "id": "p5frDm6qmcvR",
        "outputId": "76b7d6a1-1e90-43aa-d970-aeba7ede0013"
      },
      "outputs": [
        {
          "data": {
            "text/plain": [
              "((50000, 32, 32, 3), (50000, 1))"
            ]
          },
          "execution_count": 2,
          "metadata": {},
          "output_type": "execute_result"
        }
      ],
      "source": [
        "x_train.shape, y_train.shape"
      ]
    },
    {
      "attachments": {},
      "cell_type": "markdown",
      "metadata": {},
      "source": [
        "**3.\tImprime la forma del conjunto de prueba:**"
      ]
    },
    {
      "cell_type": "code",
      "execution_count": 3,
      "metadata": {
        "colab": {
          "base_uri": "https://localhost:8080/"
        },
        "id": "Sa8UM_6RmiQb",
        "outputId": "c569817c-0e76-4ad7-94ba-7cc149643427"
      },
      "outputs": [
        {
          "data": {
            "text/plain": [
              "((10000, 32, 32, 3), (10000, 1))"
            ]
          },
          "execution_count": 3,
          "metadata": {},
          "output_type": "execute_result"
        }
      ],
      "source": [
        "x_test.shape, y_test.shape"
      ]
    },
    {
      "attachments": {},
      "cell_type": "markdown",
      "metadata": {},
      "source": [
        "**4.\tFuncion que convierte las imagenes a escala de grises :**"
      ]
    },
    {
      "cell_type": "code",
      "execution_count": 4,
      "metadata": {},
      "outputs": [],
      "source": [
        "import numpy as np\n",
        "\n",
        "def convertir_a_escala_grises(imagenes):\n",
        "    imagenes_grises = np.dot(imagenes, [0.2989, 0.5870, 0.1140])\n",
        "    imagenes_grises = np.expand_dims(imagenes_grises, axis=-1)\n",
        "    return imagenes_grises\n"
      ]
    },
    {
      "attachments": {},
      "cell_type": "markdown",
      "metadata": {},
      "source": [
        "**5.\tConvertir a escala de grises:**"
      ]
    },
    {
      "cell_type": "code",
      "execution_count": 5,
      "metadata": {},
      "outputs": [],
      "source": [
        "x_train_grises = convertir_a_escala_grises(x_train)\n",
        "x_test_grises = convertir_a_escala_grises(x_test)"
      ]
    },
    {
      "attachments": {},
      "cell_type": "markdown",
      "metadata": {},
      "source": [
        "**6.\tvisualizacion de las imagenes :**"
      ]
    },
    {
      "cell_type": "code",
      "execution_count": 6,
      "metadata": {
        "colab": {
          "base_uri": "https://localhost:8080/",
          "height": 447
        },
        "id": "-hPTZwjSmov2",
        "outputId": "b0b75026-1221-41bd-8c20-5a1e4e4381ef"
      },
      "outputs": [
        {
          "name": "stdout",
          "output_type": "stream",
          "text": [
            "Class:  [1]\n"
          ]
        },
        {
          "data": {
            "image/png": "[encoded data removed]",
            "text/plain": [
              "<Figure size 640x480 with 1 Axes>"
            ]
          },
          "metadata": {},
          "output_type": "display_data"
        }
      ],
      "source": [
        "import matplotlib.pyplot as plt\n",
        "plt.imshow(x_train_grises[10000])\n",
        "print(\"Class: \", y_train[10000])"
      ]
    },
    {
      "attachments": {},
      "cell_type": "markdown",
      "metadata": {},
      "source": [
        "**7.\tImprimir de nuevo la forma de entrenamiento y de prueba:**"
      ]
    },
    {
      "cell_type": "code",
      "execution_count": 7,
      "metadata": {},
      "outputs": [
        {
          "data": {
            "text/plain": [
              "((50000, 32, 32, 1), (50000, 1))"
            ]
          },
          "execution_count": 7,
          "metadata": {},
          "output_type": "execute_result"
        }
      ],
      "source": [
        "x_train_grises.shape, y_train.shape"
      ]
    },
    {
      "cell_type": "code",
      "execution_count": 8,
      "metadata": {},
      "outputs": [
        {
          "data": {
            "text/plain": [
              "((10000, 32, 32, 3), (10000, 1))"
            ]
          },
          "execution_count": 8,
          "metadata": {},
          "output_type": "execute_result"
        }
      ],
      "source": [
        "x_test.shape, y_test.shape"
      ]
    },
    {
      "attachments": {},
      "cell_type": "markdown",
      "metadata": {
        "id": "tETnStdnoEt0"
      },
      "source": [
        "Cifar10 classes:\n",
        "\n",
        "0: airplane\n",
        "1: automobile\n",
        "2: bird\n",
        "3: cat\n",
        "4: deer\n",
        "5: dog\n",
        "6: frog\n",
        "7: horse\n",
        "8: ship\n",
        "9: truck"
      ]
    },
    {
      "cell_type": "code",
      "execution_count": 9,
      "metadata": {
        "colab": {
          "base_uri": "https://localhost:8080/"
        },
        "id": "MOziRWxWm_xl",
        "outputId": "26f157b3-f81d-43bb-b6dd-08f90b614799"
      },
      "outputs": [
        {
          "data": {
            "text/plain": [
              "array([0, 1, 2, 3, 4, 5, 6, 7, 8, 9], dtype=uint8)"
            ]
          },
          "execution_count": 9,
          "metadata": {},
          "output_type": "execute_result"
        }
      ],
      "source": [
        "import numpy as np\n",
        "np.unique(y_train)"
      ]
    },
    {
      "attachments": {},
      "cell_type": "markdown",
      "metadata": {},
      "source": [
        "**8.\tImplementacion de la Red Neuronal**"
      ]
    },
    {
      "cell_type": "code",
      "execution_count": 10,
      "metadata": {
        "id": "-NPNPsNtoYEO"
      },
      "outputs": [
        {
          "name": "stdout",
          "output_type": "stream",
          "text": [
            "Model: \"sequential\"\n",
            "_________________________________________________________________\n",
            " Layer (type)                Output Shape              Param #   \n",
            "=================================================================\n",
            " conv2d (Conv2D)             (None, 28, 28, 64)        1664      \n",
            "                                                                 \n",
            " max_pooling2d (MaxPooling2D  (None, 14, 14, 64)       0         \n",
            " )                                                               \n",
            "                                                                 \n",
            " conv2d_1 (Conv2D)           (None, 10, 10, 128)       204928    \n",
            "                                                                 \n",
            " max_pooling2d_1 (MaxPooling  (None, 5, 5, 128)        0         \n",
            " 2D)                                                             \n",
            "                                                                 \n",
            " flatten (Flatten)           (None, 3200)              0         \n",
            "                                                                 \n",
            " dense (Dense)               (None, 256)               819456    \n",
            "                                                                 \n",
            " dense_1 (Dense)             (None, 128)               32896     \n",
            "                                                                 \n",
            " dense_2 (Dense)             (None, 10)                1290      \n",
            "                                                                 \n",
            "=================================================================\n",
            "Total params: 1,060,234\n",
            "Trainable params: 1,060,234\n",
            "Non-trainable params: 0\n",
            "_________________________________________________________________\n"
          ]
        }
      ],
      "source": [
        "from keras import models\n",
        "from keras import layers\n",
        "\n",
        "model = models.Sequential()\n",
        "# Capa convolucional C1\n",
        "model.add(layers.Conv2D(64, (5, 5), activation='relu', input_shape=(32, 32, 1)))\n",
        "\n",
        "# Capa S1 de maxpooling\n",
        "model.add(layers.MaxPooling2D((2, 2), strides=2))\n",
        "\n",
        "# Capa convolucional C2\n",
        "model.add(layers.Conv2D(128, (5, 5), activation='relu'))\n",
        "\n",
        "# Capa S2 de maxpooling\n",
        "model.add(layers.MaxPooling2D((2, 2), strides=2))\n",
        "\n",
        "# Capa de aplanamiento\n",
        "model.add(layers.Flatten())\n",
        "\n",
        "# Capa completamente conectada Dense1\n",
        "model.add(layers.Dense(256, activation='relu'))\n",
        "\n",
        "# Capa completamente conectada Dense2\n",
        "model.add(layers.Dense(128, activation='relu'))\n",
        "\n",
        "# Capa de salida\n",
        "model.add(layers.Dense(10, activation='softmax'))\n",
        "\n",
        "# Imprimir el resumen del modelo\n",
        "model.summary()"
      ]
    },
    {
      "attachments": {},
      "cell_type": "markdown",
      "metadata": {},
      "source": [
        "**8.\tDetermine el número de parámetros entrenables. (5 puntos)**"
      ]
    },
    {
      "attachments": {},
      "cell_type": "markdown",
      "metadata": {},
      "source": [
        "Capa de red  | Entrada    | Filtro      |Stride     |Produce    |Fórmula  |   Parámetros\n",
        ":---         | :---:      | :---:        | :---:      | :---:     | ---:     | ---:      |   \n",
        "Input   | 32x32x1  |      |      | 28x28x1 | |0\n",
        "Conv2d|28x28x1|  5x5x64  |  1   | 28x28x64 | 5x5x1x64+64| 1664\n",
        "maxpooling|28x28x64|2x2x64|2|14x14x64| |0\n",
        "Conv2d|14x14x64|5x5x128|1|10x10x128|5x5x128x128+128|409728\n",
        "maxpooling|11x10x64|2x2x128|2|2x2x128| | 0\n",
        "flatten|5x5x128| | |3200| |0\n",
        "dense|3200| | | 256|3200*256+256|819456\n",
        "dense1|256| | | 128|256*128+128|32896\n",
        "dense2|128| | | 10|128*10+10|1290\n",
        "\n",
        "TOTAL | | | | | | 1,060,234\n"
      ]
    },
    {
      "attachments": {},
      "cell_type": "markdown",
      "metadata": {},
      "source": [
        "## Ejercciio 2"
      ]
    },
    {
      "attachments": {},
      "cell_type": "markdown",
      "metadata": {},
      "source": [
        "### Enunciado"
      ]
    },
    {
      "attachments": {},
      "cell_type": "markdown",
      "metadata": {},
      "source": [
        "2. Diseñar una red neuronal convolucional (NO PREENTRENADA) y entrenarla para realizar \n",
        "clasificación con el conjunto de datos de aves que se adjunta\n",
        "Se evaluará de la siguiente manera:\n",
        "a) Lectura y preprocesamiento de datos (2 ptos.)\n",
        "b) Construcción del modelo (3 ptos.)\n",
        "c) Entrenamiento del modelo (2 ptos.)\n",
        "d) Evaluación de la accuracy con datos de test o validación que se calificará de la \n",
        "siguiente manera:\n",
        " accuracy >= 85% (5 puntos)\n",
        " 85 % > accuracy >= 60% (3 puntos)\n",
        " Accuracy < 60% (1 punto) \n",
        "e) Predicciones con el modelo entrenado (3 ptos.)\n",
        "NOTA: No usar redes pre entrenada"
      ]
    },
    {
      "cell_type": "code",
      "execution_count": 12,
      "metadata": {},
      "outputs": [],
      "source": [
        "# Import Data Science Libraries\n",
        "import numpy as np\n",
        "import pandas as pd\n",
        "import matplotlib.pyplot as plt\n",
        "import tensorflow as tf\n",
        "from sklearn.model_selection import train_test_split\n",
        "\n",
        "# Tensorflow Libraries\n",
        "from tensorflow import keras\n",
        "from keras.layers import Dense, Dropout\n",
        "\n",
        "# System libraries\n",
        "from pathlib import Path\n",
        "import os.path\n",
        "import random\n",
        "\n",
        "# Visualization Libraries\n",
        "import matplotlib.cm as cm\n",
        "import seaborn as sns\n",
        "\n",
        "sns.set_style('darkgrid')\n",
        "\n",
        "# Metrics\n",
        "from sklearn.metrics import classification_report, confusion_matrix\n",
        "import itertools"
      ]
    },
    {
      "attachments": {},
      "cell_type": "markdown",
      "metadata": {},
      "source": [
        "## a) LECTURA Y PREPROCESAMIENTO DE DATOS "
      ]
    },
    {
      "cell_type": "code",
      "execution_count": 25,
      "metadata": {},
      "outputs": [
        {
          "name": "stdout",
          "output_type": "stream",
          "text": [
            "Se leyeron 50 imágenes de la carpeta 'test'.\n",
            "Se leyeron 1490 imágenes de la carpeta 'train'.\n",
            "Se leyeron 50 imágenes de la carpeta 'valid'.\n"
          ]
        }
      ],
      "source": [
        "import os\n",
        "import cv2\n",
        "from pathlib import Path\n",
        "\n",
        "data_dir = \"./aves/\"  # Reemplaza con la ruta de tu carpeta principal de aves\n",
        "\n",
        "test_image_paths = []  # Lista para almacenar las rutas de las imágenes de la carpeta \"test\"\n",
        "train_image_paths = []  # Lista para almacenar las rutas de las imágenes de la carpeta \"train\"\n",
        "valid_image_paths = []  # Lista para almacenar las rutas de las imágenes de la carpeta \"valid\"\n",
        "\n",
        "test_labels = []  # Lista para almacenar las etiquetas de las imágenes de la carpeta \"test\"\n",
        "train_labels = []  # Lista para almacenar las etiquetas de las imágenes de la carpeta \"train\"\n",
        "valid_labels = []  # Lista para almacenar las etiquetas de las imágenes de la carpeta \"valid\"\n",
        "\n",
        "# Recorrer las subcarpetas dentro de la carpeta principal\n",
        "for split_folder in [\"test\", \"train\", \"valid\"]:\n",
        "    split_dir = os.path.join(data_dir, split_folder)\n",
        "    for root, dirs, files in os.walk(split_dir):\n",
        "        for file_name in files:\n",
        "            if file_name.lower().endswith(('.jpg', '.jpeg', '.png')):\n",
        "                image_path = os.path.join(root, file_name)\n",
        "                label = os.path.basename(os.path.dirname(image_path))\n",
        "                \n",
        "                if split_folder == \"test\":\n",
        "                    test_image_paths.append(image_path)\n",
        "                    test_labels.append(label)\n",
        "                elif split_folder == \"train\":\n",
        "                    train_image_paths.append(image_path)\n",
        "                    train_labels.append(label)\n",
        "                elif split_folder == \"valid\":\n",
        "                    valid_image_paths.append(image_path)\n",
        "                    valid_labels.append(label)\n",
        "\n",
        "# Imprimir el total de imágenes leídas\n",
        "print(f\"Se leyeron {len(test_image_paths)} imágenes de la carpeta 'test'.\")\n",
        "print(f\"Se leyeron {len(train_image_paths)} imágenes de la carpeta 'train'.\")\n",
        "print(f\"Se leyeron {len(valid_image_paths)} imágenes de la carpeta 'valid'.\")\n",
        "\n",
        "# Ahora puedes utilizar las listas de imágenes y etiquetas correspondientes para cada carpeta en tu procesamiento adicional.\n"
      ]
    },
    {
      "attachments": {},
      "cell_type": "markdown",
      "metadata": {},
      "source": [
        "PREPROCESAMEINTO"
      ]
    },
    {
      "cell_type": "code",
      "execution_count": 31,
      "metadata": {},
      "outputs": [
        {
          "data": {
            "text/plain": [
              "'./aves/test\\\\AFRICAN FIREFINCH\\\\1.jpg'"
            ]
          },
          "execution_count": 31,
          "metadata": {},
          "output_type": "execute_result"
        }
      ],
      "source": [
        "x_test[0]"
      ]
    },
    {
      "cell_type": "code",
      "execution_count": 32,
      "metadata": {},
      "outputs": [],
      "source": [
        "# Convertir la lista de imágenes preprocesadas en un arreglo NumPy\n",
        "x_test = np.array(test_image_paths)\n",
        "x_train = np.array(train_image_paths)\n",
        "y_train = np.array(train_labels)\n",
        "y_test = np.array(test_labels)"
      ]
    },
    {
      "cell_type": "code",
      "execution_count": 35,
      "metadata": {},
      "outputs": [
        {
          "name": "stdout",
          "output_type": "stream",
          "text": [
            "Forma de x_test: (50,)\n",
            "Forma de x_train: (1490,)\n",
            "Forma de y_train: (1490,)\n",
            "Forma de y_test: (50,)\n"
          ]
        }
      ],
      "source": [
        "# Imprimir las formas de los arreglos\n",
        "print(\"Forma de x_test:\", x_test.shape)\n",
        "print(\"Forma de x_train:\", x_train.shape)\n",
        "print(\"Forma de y_train:\", y_train.shape)\n",
        "print(\"Forma de y_test:\", y_test.shape)"
      ]
    },
    {
      "attachments": {},
      "cell_type": "markdown",
      "metadata": {},
      "source": [
        "## PREPROCESAMEINTO"
      ]
    },
    {
      "cell_type": "code",
      "execution_count": 36,
      "metadata": {},
      "outputs": [
        {
          "name": "stdout",
          "output_type": "stream",
          "text": [
            "Forma de x_test_preprocessed: (50, 32, 32, 3)\n",
            "Forma de x_train_preprocessed: (1490, 32, 32, 3)\n"
          ]
        }
      ],
      "source": [
        "import cv2\n",
        "import numpy as np\n",
        "\n",
        "def preprocess_images(image_paths):\n",
        "    preprocessed_images = []\n",
        "    for image_path in image_paths:\n",
        "        # Leer la imagen utilizando OpenCV\n",
        "        image = cv2.imread(image_path)\n",
        "        \n",
        "        # Aplicar el preprocesamiento necesario a la imagen\n",
        "        # Por ejemplo, puedes realizar el cambio de tamaño, normalización, ajuste de contraste, etc.\n",
        "        # Aquí se muestra un ejemplo de cambio de tamaño a un tamaño objetivo de (32, 32)\n",
        "        resized_image = cv2.resize(image, (32, 32))\n",
        "        \n",
        "        # Puedes agregar más pasos de preprocesamiento según tus necesidades\n",
        "        \n",
        "        # Agregar la imagen preprocesada a la lista de imágenes preprocesadas\n",
        "        preprocessed_images.append(resized_image)\n",
        "    \n",
        "    return preprocessed_images\n",
        "\n",
        "# Aplicar el preprocesamiento a las imágenes de x_test y x_train\n",
        "preprocessed_x_test = preprocess_images(x_test)\n",
        "preprocessed_x_train = preprocess_images(x_train)\n",
        "\n",
        "# Convertir las listas de imágenes preprocesadas en arreglos NumPy\n",
        "x_test_preprocessed = np.array(preprocessed_x_test)\n",
        "x_train_preprocessed = np.array(preprocessed_x_train)\n",
        "\n",
        "# Imprimir las formas de los arreglos preprocesados\n",
        "print(\"Forma de x_test_preprocessed:\", x_test_preprocessed.shape)\n",
        "print(\"Forma de x_train_preprocessed:\", x_train_preprocessed.shape)\n"
      ]
    },
    {
      "cell_type": "code",
      "execution_count": 37,
      "metadata": {},
      "outputs": [
        {
          "data": {
            "image/png": "[encoded data removed]",
            "text/plain": [
              "<Figure size 1200x1200 with 5 Axes>"
            ]
          },
          "metadata": {},
          "output_type": "display_data"
        },
        {
          "data": {
            "image/png": "[encoded data removed]",
            "text/plain": [
              "<Figure size 1200x1200 with 5 Axes>"
            ]
          },
          "metadata": {},
          "output_type": "display_data"
        }
      ],
      "source": [
        "import matplotlib.pyplot as plt\n",
        "\n",
        "# Función para visualizar las imágenes\n",
        "def show_images(images, labels):\n",
        "    num_images = len(images)\n",
        "    fig, axes = plt.subplots(1, num_images, figsize=(12, 12))\n",
        "    \n",
        "    for i in range(num_images):\n",
        "        axes[i].imshow(images[i])\n",
        "        axes[i].axis('off')\n",
        "        axes[i].set_title(labels[i])\n",
        "    \n",
        "    plt.tight_layout()\n",
        "    plt.show()\n",
        "\n",
        "# Visualizar algunas imágenes preprocesadas de x_test_preprocessed\n",
        "sample_images_test = x_test_preprocessed[:5]\n",
        "sample_labels_test = y_test[:5]\n",
        "\n",
        "show_images(sample_images_test, sample_labels_test)\n",
        "\n",
        "# Visualizar algunas imágenes preprocesadas de x_train_preprocessed\n",
        "sample_images_train = x_train_preprocessed[:5]\n",
        "sample_labels_train = y_train[:5]\n",
        "\n",
        "show_images(sample_images_train, sample_labels_train)"
      ]
    },
    {
      "attachments": {},
      "cell_type": "markdown",
      "metadata": {},
      "source": [
        "#### CODIFICACION DE LAS ETIQUETAS CON LABEL ENCODER"
      ]
    },
    {
      "cell_type": "code",
      "execution_count": 44,
      "metadata": {},
      "outputs": [],
      "source": [
        "from sklearn.preprocessing import LabelEncoder\n",
        "\n",
        "# Codificar las etiquetas como valores numéricos\n",
        "label_encoder = LabelEncoder()\n",
        "y_train_encoded = label_encoder.fit_transform(y_train)\n",
        "y_test_encoded = label_encoder.transform(y_test)\n"
      ]
    },
    {
      "attachments": {},
      "cell_type": "markdown",
      "metadata": {},
      "source": [
        "## b) Construcción del modelo (3 ptos.)\n"
      ]
    },
    {
      "cell_type": "code",
      "execution_count": 38,
      "metadata": {},
      "outputs": [
        {
          "name": "stdout",
          "output_type": "stream",
          "text": [
            "Model: \"sequential_1\"\n",
            "_________________________________________________________________\n",
            " Layer (type)                Output Shape              Param #   \n",
            "=================================================================\n",
            " C1 (Conv2D)                 (None, 32, 32, 32)        896       \n",
            "                                                                 \n",
            " C2 (Conv2D)                 (None, 32, 32, 32)        9248      \n",
            "                                                                 \n",
            " P1 (MaxPooling2D)           (None, 16, 16, 32)        0         \n",
            "                                                                 \n",
            " dropout (Dropout)           (None, 16, 16, 32)        0         \n",
            "                                                                 \n",
            " C3 (Conv2D)                 (None, 16, 16, 64)        18496     \n",
            "                                                                 \n",
            " C4 (Conv2D)                 (None, 16, 16, 64)        36928     \n",
            "                                                                 \n",
            " P2 (MaxPooling2D)           (None, 8, 8, 64)          0         \n",
            "                                                                 \n",
            " dropout_1 (Dropout)         (None, 8, 8, 64)          0         \n",
            "                                                                 \n",
            " C5 (Conv2D)                 (None, 8, 8, 128)         73856     \n",
            "                                                                 \n",
            " C6 (Conv2D)                 (None, 8, 8, 128)         147584    \n",
            "                                                                 \n",
            " P3 (MaxPooling2D)           (None, 4, 4, 128)         0         \n",
            "                                                                 \n",
            " dropout_2 (Dropout)         (None, 4, 4, 128)         0         \n",
            "                                                                 \n",
            " FLATTEN (Flatten)           (None, 2048)              0         \n",
            "                                                                 \n",
            " D1 (Dense)                  (None, 128)               262272    \n",
            "                                                                 \n",
            " dropout_3 (Dropout)         (None, 128)               0         \n",
            "                                                                 \n",
            " OUTPUT (Dense)              (None, 10)                1290      \n",
            "                                                                 \n",
            "=================================================================\n",
            "Total params: 550,570\n",
            "Trainable params: 550,570\n",
            "Non-trainable params: 0\n",
            "_________________________________________________________________\n"
          ]
        }
      ],
      "source": [
        "import tensorflow as tf\n",
        "\n",
        "model = tf.keras.Sequential([\n",
        "    # First Conv-ReLU-Conv-ReLU-MaxPool Layer\n",
        "    tf.keras.layers.Conv2D(input_shape=[32, 32, 3],\n",
        "                           filters=32,\n",
        "                           kernel_size=3,\n",
        "                           padding='SAME',\n",
        "                           activation=\"relu\",\n",
        "                           kernel_initializer='he_uniform',\n",
        "                           name=\"C1\"),\n",
        "    tf.keras.layers.Conv2D(filters=32,\n",
        "                           kernel_size=3,\n",
        "                           padding='SAME',\n",
        "                           activation=\"relu\",\n",
        "                           kernel_initializer='he_uniform',\n",
        "                           name=\"C2\"),\n",
        "    tf.keras.layers.MaxPool2D((2, 2),\n",
        "                              name=\"P1\"),\n",
        "    tf.keras.layers.Dropout(0.2),\n",
        "    # Second Conv-ReLU-Conv-ReLU-MaxPool Layer\n",
        "    tf.keras.layers.Conv2D(filters=64,\n",
        "                           kernel_size=3,\n",
        "                           padding='SAME',\n",
        "                           activation=\"relu\",\n",
        "                           kernel_initializer='he_uniform',\n",
        "                           name=\"C3\"),\n",
        "    tf.keras.layers.Conv2D(filters=64,\n",
        "                           kernel_size=3,\n",
        "                           padding='SAME',\n",
        "                           activation=\"relu\",\n",
        "                           kernel_initializer='he_uniform',\n",
        "                           name=\"C4\"),\n",
        "    tf.keras.layers.MaxPool2D((2, 2),\n",
        "                              name=\"P2\"),\n",
        "    tf.keras.layers.Dropout(0.2),\n",
        "    # Third Conv-ReLU-Conv-ReLU-MaxPool Layer\n",
        "    tf.keras.layers.Conv2D(filters=128,\n",
        "                           kernel_size=3,\n",
        "                           padding='SAME',\n",
        "                           activation=\"relu\",\n",
        "                           kernel_initializer='he_uniform',\n",
        "                           name=\"C5\"),\n",
        "    tf.keras.layers.Conv2D(filters=128,\n",
        "                           kernel_size=3,\n",
        "                           padding='SAME',\n",
        "                           activation=\"relu\",\n",
        "                           kernel_initializer='he_uniform',\n",
        "                           name=\"C6\"),\n",
        "    tf.keras.layers.MaxPool2D((2, 2),\n",
        "                              name=\"P3\"),\n",
        "    tf.keras.layers.Dropout(0.2),\n",
        "    # Flatten Layer\n",
        "    tf.keras.layers.Flatten(name=\"FLATTEN\"),\n",
        "    # Fully Connected Layer\n",
        "    tf.keras.layers.Dense(units=128,\n",
        "                          activation=\"relu\",\n",
        "                          name=\"D1\"),\n",
        "    tf.keras.layers.Dropout(0.2),\n",
        "    # Final Fully Connected Layer\n",
        "    tf.keras.layers.Dense(units=10,\n",
        "                          activation=\"softmax\",\n",
        "                          name=\"OUTPUT\")\n",
        "])\n",
        "\n"
      ]
    },
    {
      "cell_type": "code",
      "execution_count": 39,
      "metadata": {},
      "outputs": [
        {
          "name": "stdout",
          "output_type": "stream",
          "text": [
            "Model: \"sequential_1\"\n",
            "_________________________________________________________________\n",
            " Layer (type)                Output Shape              Param #   \n",
            "=================================================================\n",
            " C1 (Conv2D)                 (None, 32, 32, 32)        896       \n",
            "                                                                 \n",
            " C2 (Conv2D)                 (None, 32, 32, 32)        9248      \n",
            "                                                                 \n",
            " P1 (MaxPooling2D)           (None, 16, 16, 32)        0         \n",
            "                                                                 \n",
            " dropout (Dropout)           (None, 16, 16, 32)        0         \n",
            "                                                                 \n",
            " C3 (Conv2D)                 (None, 16, 16, 64)        18496     \n",
            "                                                                 \n",
            " C4 (Conv2D)                 (None, 16, 16, 64)        36928     \n",
            "                                                                 \n",
            " P2 (MaxPooling2D)           (None, 8, 8, 64)          0         \n",
            "                                                                 \n",
            " dropout_1 (Dropout)         (None, 8, 8, 64)          0         \n",
            "                                                                 \n",
            " C5 (Conv2D)                 (None, 8, 8, 128)         73856     \n",
            "                                                                 \n",
            " C6 (Conv2D)                 (None, 8, 8, 128)         147584    \n",
            "                                                                 \n",
            " P3 (MaxPooling2D)           (None, 4, 4, 128)         0         \n",
            "                                                                 \n",
            " dropout_2 (Dropout)         (None, 4, 4, 128)         0         \n",
            "                                                                 \n",
            " FLATTEN (Flatten)           (None, 2048)              0         \n",
            "                                                                 \n",
            " D1 (Dense)                  (None, 128)               262272    \n",
            "                                                                 \n",
            " dropout_3 (Dropout)         (None, 128)               0         \n",
            "                                                                 \n",
            " OUTPUT (Dense)              (None, 10)                1290      \n",
            "                                                                 \n",
            "=================================================================\n",
            "Total params: 550,570\n",
            "Trainable params: 550,570\n",
            "Non-trainable params: 0\n",
            "_________________________________________________________________\n"
          ]
        }
      ],
      "source": [
        "\n",
        "model.compile(\n",
        "    optimizer=\"adam\",\n",
        "    loss=\"sparse_categorical_crossentropy\",\n",
        "    metrics=[\"accuracy\"]\n",
        ")\n",
        "model.summary()"
      ]
    },
    {
      "attachments": {},
      "cell_type": "markdown",
      "metadata": {},
      "source": [
        "## c) Entrenamiento del modelo (2 ptos.)\n"
      ]
    },
    {
      "cell_type": "code",
      "execution_count": 50,
      "metadata": {},
      "outputs": [
        {
          "name": "stdout",
          "output_type": "stream",
          "text": [
            "Epoch 1/40\n"
          ]
        },
        {
          "name": "stdout",
          "output_type": "stream",
          "text": [
            "47/47 [==============================] - 9s 190ms/step - loss: 1.3432 - accuracy: 0.5309 - val_loss: 1.0017 - val_accuracy: 0.6600\n",
            "Epoch 2/40\n",
            "47/47 [==============================] - 9s 196ms/step - loss: 1.2571 - accuracy: 0.5604 - val_loss: 1.1243 - val_accuracy: 0.6600\n",
            "Epoch 3/40\n",
            "47/47 [==============================] - 9s 187ms/step - loss: 1.2228 - accuracy: 0.5664 - val_loss: 1.0046 - val_accuracy: 0.6600\n",
            "Epoch 4/40\n",
            "47/47 [==============================] - 9s 183ms/step - loss: 1.1732 - accuracy: 0.6013 - val_loss: 0.9522 - val_accuracy: 0.6800\n",
            "Epoch 5/40\n",
            "47/47 [==============================] - 9s 199ms/step - loss: 1.1204 - accuracy: 0.6101 - val_loss: 0.9062 - val_accuracy: 0.6800\n",
            "Epoch 6/40\n",
            "47/47 [==============================] - 10s 223ms/step - loss: 1.1419 - accuracy: 0.5953 - val_loss: 0.8994 - val_accuracy: 0.6200\n",
            "Epoch 7/40\n",
            "47/47 [==============================] - 11s 221ms/step - loss: 1.0186 - accuracy: 0.6389 - val_loss: 0.8812 - val_accuracy: 0.6200\n",
            "Epoch 8/40\n",
            "47/47 [==============================] - 10s 210ms/step - loss: 1.0443 - accuracy: 0.6430 - val_loss: 0.8812 - val_accuracy: 0.6800\n",
            "Epoch 9/40\n",
            "47/47 [==============================] - 11s 235ms/step - loss: 0.9723 - accuracy: 0.6644 - val_loss: 0.8975 - val_accuracy: 0.6600\n",
            "Epoch 10/40\n",
            "47/47 [==============================] - 9s 182ms/step - loss: 0.9444 - accuracy: 0.6732 - val_loss: 1.1120 - val_accuracy: 0.5600\n",
            "Epoch 11/40\n",
            "47/47 [==============================] - 9s 183ms/step - loss: 0.8971 - accuracy: 0.6926 - val_loss: 0.7162 - val_accuracy: 0.7000\n",
            "Epoch 12/40\n",
            "47/47 [==============================] - 8s 167ms/step - loss: 0.8892 - accuracy: 0.6846 - val_loss: 0.8939 - val_accuracy: 0.6400\n",
            "Epoch 13/40\n",
            "47/47 [==============================] - 8s 172ms/step - loss: 0.8672 - accuracy: 0.7134 - val_loss: 0.9912 - val_accuracy: 0.6600\n",
            "Epoch 14/40\n",
            "47/47 [==============================] - 14s 296ms/step - loss: 0.8579 - accuracy: 0.7060 - val_loss: 1.0981 - val_accuracy: 0.6000\n",
            "Epoch 15/40\n",
            "47/47 [==============================] - 15s 329ms/step - loss: 0.8264 - accuracy: 0.7215 - val_loss: 0.7146 - val_accuracy: 0.7200\n",
            "Epoch 16/40\n",
            "47/47 [==============================] - 13s 279ms/step - loss: 0.7780 - accuracy: 0.7315 - val_loss: 0.8871 - val_accuracy: 0.6800\n",
            "Epoch 17/40\n",
            "47/47 [==============================] - 13s 272ms/step - loss: 0.7630 - accuracy: 0.7409 - val_loss: 0.6966 - val_accuracy: 0.7400\n",
            "Epoch 18/40\n",
            "47/47 [==============================] - 11s 242ms/step - loss: 0.7139 - accuracy: 0.7577 - val_loss: 0.6840 - val_accuracy: 0.7800\n",
            "Epoch 19/40\n",
            "47/47 [==============================] - 12s 246ms/step - loss: 0.6868 - accuracy: 0.7732 - val_loss: 0.6866 - val_accuracy: 0.7600\n",
            "Epoch 20/40\n",
            "47/47 [==============================] - 11s 241ms/step - loss: 0.6961 - accuracy: 0.7550 - val_loss: 0.6873 - val_accuracy: 0.7600\n",
            "Epoch 21/40\n",
            "47/47 [==============================] - 17s 358ms/step - loss: 0.7047 - accuracy: 0.7644 - val_loss: 0.8851 - val_accuracy: 0.8200\n",
            "Epoch 22/40\n",
            "47/47 [==============================] - 16s 340ms/step - loss: 0.7268 - accuracy: 0.7564 - val_loss: 0.7225 - val_accuracy: 0.7400\n",
            "Epoch 23/40\n",
            "47/47 [==============================] - 14s 298ms/step - loss: 0.6441 - accuracy: 0.7832 - val_loss: 0.6106 - val_accuracy: 0.8000\n",
            "Epoch 24/40\n",
            "47/47 [==============================] - 16s 342ms/step - loss: 0.6337 - accuracy: 0.7812 - val_loss: 0.6257 - val_accuracy: 0.8000\n",
            "Epoch 25/40\n",
            "47/47 [==============================] - 15s 321ms/step - loss: 0.5905 - accuracy: 0.7913 - val_loss: 0.7073 - val_accuracy: 0.7800\n",
            "Epoch 26/40\n",
            "47/47 [==============================] - 12s 259ms/step - loss: 0.5791 - accuracy: 0.8054 - val_loss: 0.6464 - val_accuracy: 0.7800\n",
            "Epoch 27/40\n",
            "47/47 [==============================] - 13s 283ms/step - loss: 0.5019 - accuracy: 0.8275 - val_loss: 0.6188 - val_accuracy: 0.8400\n",
            "Epoch 28/40\n",
            "47/47 [==============================] - 14s 303ms/step - loss: 0.5297 - accuracy: 0.8235 - val_loss: 0.6426 - val_accuracy: 0.8400\n",
            "Epoch 29/40\n",
            "47/47 [==============================] - 13s 278ms/step - loss: 0.6519 - accuracy: 0.7805 - val_loss: 0.6541 - val_accuracy: 0.7600\n",
            "Epoch 30/40\n",
            "47/47 [==============================] - 13s 270ms/step - loss: 0.4998 - accuracy: 0.8322 - val_loss: 0.5975 - val_accuracy: 0.8600\n",
            "Epoch 31/40\n",
            "47/47 [==============================] - 13s 277ms/step - loss: 0.4815 - accuracy: 0.8396 - val_loss: 0.6635 - val_accuracy: 0.8600\n",
            "Epoch 32/40\n",
            "47/47 [==============================] - 16s 329ms/step - loss: 0.4982 - accuracy: 0.8336 - val_loss: 0.7062 - val_accuracy: 0.8000\n",
            "Epoch 33/40\n",
            "47/47 [==============================] - 16s 334ms/step - loss: 0.5309 - accuracy: 0.8208 - val_loss: 0.8266 - val_accuracy: 0.7800\n",
            "Epoch 34/40\n",
            "47/47 [==============================] - 13s 275ms/step - loss: 0.4887 - accuracy: 0.8362 - val_loss: 0.8147 - val_accuracy: 0.7200\n",
            "Epoch 35/40\n",
            "47/47 [==============================] - 12s 258ms/step - loss: 0.4658 - accuracy: 0.8470 - val_loss: 0.7118 - val_accuracy: 0.8200\n",
            "Epoch 36/40\n",
            "47/47 [==============================] - 13s 267ms/step - loss: 0.4374 - accuracy: 0.8537 - val_loss: 0.7112 - val_accuracy: 0.8400\n",
            "Epoch 37/40\n",
            "47/47 [==============================] - 14s 291ms/step - loss: 0.4842 - accuracy: 0.8289 - val_loss: 0.5721 - val_accuracy: 0.8400\n",
            "Epoch 38/40\n",
            "47/47 [==============================] - 13s 272ms/step - loss: 0.3981 - accuracy: 0.8745 - val_loss: 0.6578 - val_accuracy: 0.8600\n",
            "Epoch 39/40\n",
            "47/47 [==============================] - 13s 270ms/step - loss: 0.4006 - accuracy: 0.8604 - val_loss: 0.7463 - val_accuracy: 0.8200\n",
            "Epoch 40/40\n",
            "47/47 [==============================] - 12s 257ms/step - loss: 0.3814 - accuracy: 0.8651 - val_loss: 0.6475 - val_accuracy: 0.8400\n"
          ]
        }
      ],
      "source": [
        "# Definir los datos de entrenamiento y prueba\n",
        "x_train_processed = x_train_preprocessed\n",
        "x_test_processed = x_test_preprocessed\n",
        "\n",
        "# Entrenar el modelo\n",
        "epochs = 40\n",
        "history = model.fit(x_train_processed, y_train_encoded, validation_data=(x_test_processed, y_test_encoded), epochs=epochs)\n"
      ]
    },
    {
      "cell_type": "code",
      "execution_count": 51,
      "metadata": {},
      "outputs": [
        {
          "data": {
            "image/png": "[encoded data removed]",
            "text/plain": [
              "<Figure size 640x480 with 1 Axes>"
            ]
          },
          "metadata": {},
          "output_type": "display_data"
        },
        {
          "data": {
            "image/png": "[encoded data removed]",
            "text/plain": [
              "<Figure size 640x480 with 1 Axes>"
            ]
          },
          "metadata": {},
          "output_type": "display_data"
        }
      ],
      "source": [
        "# Print loss and accuracy\n",
        "# Matlotlib code to plot the loss and accuracy\n",
        "epochs_indices = range(0, epochs, 1)\n",
        "\n",
        "# Plot loss over time\n",
        "plt.plot(epochs_indices, history.history[\"loss\"], 'k-')\n",
        "plt.title('Softmax Loss per Epoch')\n",
        "plt.xlabel('Epoch')\n",
        "plt.ylabel('Softmax Loss')\n",
        "plt.show()\n",
        "\n",
        "# Plot accuracy over time\n",
        "plt.plot(epochs_indices, history.history[\"val_accuracy\"], 'k-')\n",
        "plt.title('Test Accuracy per Epoch')\n",
        "plt.xlabel('Epoch')\n",
        "plt.ylabel('Accuracy')\n",
        "plt.show()"
      ]
    },
    {
      "attachments": {},
      "cell_type": "markdown",
      "metadata": {},
      "source": [
        "## e) Predicciones con el modelo entrenado (3 ptos.)\n"
      ]
    },
    {
      "cell_type": "code",
      "execution_count": 53,
      "metadata": {},
      "outputs": [
        {
          "name": "stdout",
          "output_type": "stream",
          "text": [
            "1/1 [==============================] - 0s 77ms/step\n",
            "Imagen 1\n",
            "Predicción: 8\n",
            "Etiqueta real: 8\n",
            "\n",
            "Imagen 2\n",
            "Predicción: 6\n",
            "Etiqueta real: 6\n",
            "\n",
            "Imagen 3\n",
            "Predicción: 0\n",
            "Etiqueta real: 0\n",
            "\n"
          ]
        }
      ],
      "source": [
        "import numpy as np\n",
        "\n",
        "# Supongamos que tienes el modelo entrenado y el conjunto de prueba x_test_processed\n",
        "\n",
        "# Seleccionar tres imágenes aleatorias del conjunto de prueba\n",
        "random_indices = np.random.choice(len(x_test_processed), size=3, replace=False)\n",
        "sample_images = x_test_processed[random_indices]\n",
        "\n",
        "# Realizar predicciones en las imágenes seleccionadas\n",
        "predictions = model.predict(sample_images)\n",
        "\n",
        "# Obtener las clases predichas para cada imagen\n",
        "predicted_classes = np.argmax(predictions, axis=1)\n",
        "\n",
        "# Obtener las etiquetas reales para cada imagen\n",
        "true_labels = y_test_encoded[random_indices]\n",
        "\n",
        "# Imprimir las predicciones y las etiquetas reales\n",
        "for i in range(len(sample_images)):\n",
        "    print(\"Imagen\", i+1)\n",
        "    print(\"Predicción:\", predicted_classes[i])\n",
        "    print(\"Etiqueta real:\", true_labels[i])\n",
        "    print()\n"
      ]
    },
    {
      "attachments": {},
      "cell_type": "markdown",
      "metadata": {},
      "source": [
        "Las predicciones son correctas"
      ]
    }
  ],
  "metadata": {
    "accelerator": "GPU",
    "colab": {
      "provenance": []
    },
    "kernelspec": {
      "display_name": "Python 3",
      "name": "python3"
    },
    "language_info": {
      "codemirror_mode": {
        "name": "ipython",
        "version": 3
      },
      "file_extension": ".py",
      "mimetype": "text/x-python",
      "name": "python",
      "nbconvert_exporter": "python",
      "pygments_lexer": "ipython3",
      "version": "3.10.9"
    }
  },
  "nbformat": 4,
  "nbformat_minor": 0
}
