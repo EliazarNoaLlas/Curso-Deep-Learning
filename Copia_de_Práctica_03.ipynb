{
  "cells": [
    {
      "cell_type": "code",
      "execution_count": 36,
      "metadata": {
        "vscode": {
          "languageId": "html"
        }
      },
      "outputs": [
        {
          "ename": "SyntaxError",
          "evalue": "invalid syntax (1898274109.py, line 1)",
          "output_type": "error",
          "traceback": [
            "\u001b[1;36m  Cell \u001b[1;32mIn [36], line 1\u001b[1;36m\u001b[0m\n\u001b[1;33m    <!DOCTYPE html>\u001b[0m\n\u001b[1;37m    ^\u001b[0m\n\u001b[1;31mSyntaxError\u001b[0m\u001b[1;31m:\u001b[0m invalid syntax\n"
          ]
        }
      ],
      "source": [
        "<!DOCTYPE html>\n",
        "<html lang=\"en\">\n",
        "<head>\n",
        "    <meta charset=\"UTF-8\">\n",
        "    <meta http-equiv=\"X-UA-Compatible\" content=\"IE=edge\">\n",
        "    <meta name=\"viewport\" content=\"width=device-width, initial-scale=1.0\">\n",
        "    <title>Document</title>\n",
        "</head>\n",
        "<body>\n",
        "    <img style=\"height: 30px;\n",
        "    border-radius: 2px;\n",
        "    text-align: center;\" \n",
        "    src=\"assets/images/keras_gradienttape_automatic_differentiation.webp\" \n",
        "    alt=\"Grafico de Cinta\">\n",
        "</body>\n",
        "</html>"
      ]
    },
    {
      "attachments": {},
      "cell_type": "markdown",
      "metadata": {
        "id": "NuGMchRQ_Itk"
      },
      "source": [
        "# **UNIVERSIDAD NACIONAL DE SAN ANTONIO ABAD DEL CUSCO**\n",
        "# **DEPARTAMENTO ACADÉMICO DE INFORMÁTICA**\n",
        "## **DEEP LEARNING**\n",
        "\n",
        "\n"
      ]
    },
    {
      "attachments": {},
      "cell_type": "markdown",
      "metadata": {
        "id": "XgmIzERI_ikc"
      },
      "source": [
        "# **PRÁCTICA Nº 03**\n",
        "## **GRADIENTES Y DIFERENCIACIÓN AUTOMÁTICA**"
      ]
    },
    {
      "attachments": {},
      "cell_type": "markdown",
      "metadata": {
        "id": "41fY-jW0_zAW"
      },
      "source": [
        "**1.   OBJETIVOS**\n",
        "\n",
        "\n",
        "*   Conocer la diferenciación automática para calcular la derivada de una función\n",
        "*  Aplicar la diferenciación automática al entrenamiento de redes neuronales"
      ]
    },
    {
      "attachments": {},
      "cell_type": "markdown",
      "metadata": {
        "id": "q-Kc8uBe2_mh"
      },
      "source": [
        "### **1.0 — Introducción**\n",
        "\n",
        "tf. GradientTape nos permite realizar un seguimiento de los cálculos de TensorFlow y calcular gradientes (con respecto a) algunas variables dadas.\n",
        "Por ejemplo, podríamos realizar un seguimiento de los siguientes cálculos y calcular gradientes de la siguiente manera:tf.GradientTape"
      ]
    },
    {
      "attachments": {},
      "cell_type": "markdown",
      "metadata": {},
      "source": [
        "- tf.GradientTape es una libreria de TensorFlow que nos permite realizar calculos de gradienets c/r a una variable \n",
        "- El calculo del gradiente se utiliza mucho en Machine Learnign y en Redes Neuronales\n",
        "- Gradiente descendete: como cambia una funcion de acuerdo a sus variables de entrada\n",
        "- tf.GradientTape: Crea un entorno en el cual todas las operaciones se registran en grafico de cinta como en la imagen.  \n",
        "- TAPE registra todas las variables y los tensores \n",
        "- Estas variables son utilizadas en el algoritmo de diferenciacion (como el backpropagation)\n"
      ]
    },
    {
      "attachments": {},
      "cell_type": "markdown",
      "metadata": {},
      "source": [
        "<div style=\"text-align:center;\">\n",
        "  <p>Grafico de cinta Tape</p>\n",
        "  <img style=\"height: 500px;\n",
        "    border-radius: 2px;\"\n",
        "    src=\"assets/images/keras_gradienttape_automatic_differentiation.webp\"\n",
        "    alt=\"Grafico de Cinta\">\n",
        "</div>"
      ]
    },
    {
      "attachments": {},
      "cell_type": "markdown",
      "metadata": {},
      "source": [
        "*Imagen : En la imagen se muestra los calculos para la funcion de costos propagandolos desde abajo(las variables de entrada) hacia arriba(las variables de salida) Pero todo este proceso se realiza de forma automatica con esta libreria tf.GradientTape*"
      ]
    },
    {
      "attachments": {},
      "cell_type": "markdown",
      "metadata": {},
      "source": [
        "#### importamos la libreria"
      ]
    },
    {
      "cell_type": "code",
      "execution_count": 37,
      "metadata": {
        "colab": {
          "base_uri": "https://localhost:8080/"
        },
        "id": "KlhQBYc_3Qsp",
        "outputId": "09f7350d-b8a3-4401-b9f0-de61b699f300"
      },
      "outputs": [
        {
          "name": "stdout",
          "output_type": "stream",
          "text": [
            "2.12.0\n"
          ]
        }
      ],
      "source": [
        "import tensorflow as tf #importamos\n",
        "print(tf.__version__) # version"
      ]
    },
    {
      "attachments": {},
      "cell_type": "markdown",
      "metadata": {},
      "source": [
        "#### calculamos el gradiente de la funcion 'y' c/r 'x'"
      ]
    },
    {
      "cell_type": "code",
      "execution_count": 3,
      "metadata": {
        "colab": {
          "base_uri": "https://localhost:8080/"
        },
        "id": "LlsGOrjM3JmN",
        "outputId": "370243cb-5d6a-431a-832c-1f27717e7326"
      },
      "outputs": [
        {
          "name": "stdout",
          "output_type": "stream",
          "text": [
            "75.0\n"
          ]
        }
      ],
      "source": [
        "x = tf.constant(5.0) # crear una constante\n",
        "# contexto TAPE\n",
        "with tf.GradientTape() as tape:\n",
        "    tape.watch(x) # seguimiento a la v. x\n",
        "    y = x**3 # funcion a diferenciar\n",
        "\n",
        "# calcula el gradiente y obtiene el arreglo\n",
        "print(tape.gradient(y, x).numpy())\n",
        "\n",
        "del tape, x # -> liberamos la memoria"
      ]
    },
    {
      "attachments": {},
      "cell_type": "markdown",
      "metadata": {},
      "source": [
        "La derivada de y con respecto a x se puede calcular utilizando la regla de potencias, dy/dx = n * x**(n-1) -> `d(x**3)/dx`-> `3x**2`. Sustituyendo el valor de x obtenemos 3 * 5.0**2, que es igual a 75.0."
      ]
    },
    {
      "attachments": {},
      "cell_type": "markdown",
      "metadata": {
        "id": "PHK7fwfn30Jo"
      },
      "source": [
        "- Por defecto, no realiza un seguimiento de las constantes, por lo que \n",
        "debemos indicarle que: GradientTapetape.watch(variable)\n",
        "- Luego podemos realizar algún cálculo sobre las variables que estamos \n",
        "observando. El cálculo puede ser cualquier cosa, desde cubing(cubo de un numero), hasta pasarlo a través de una red neuronal.\n",
        "- Calculamos gradientes con una variable. \n",
        "\n",
        "Si en algún momento, queremos usar múltiples variables en nuestros cálculos, todo lo que tenemos que hacer es dar una lista o tupla de esas variables. Cuando optimizamos los modelos Keras, pasamos como nuestra lista de variables.tape.gradientmodel.trainable_variables"
      ]
    },
    {
      "attachments": {},
      "cell_type": "markdown",
      "metadata": {
        "id": "pibrTFhm4kvt"
      },
      "source": [
        "### **1.1 — Observación automática de variables**\n",
        "\n",
        "Si fuera una variable entrenable en lugar de una constante, no habría necesidad de decirle a la cinta que la vea: observa automáticamente todas las variables entrenables.\n",
        "\n",
        "Las variables entrenables son aquellas que se utilizan en el entrenamiento de modelos y se actualizan iterativamente durante el proceso de optimización"
      ]
    },
    {
      "cell_type": "code",
      "execution_count": 42,
      "metadata": {
        "colab": {
          "base_uri": "https://localhost:8080/"
        },
        "id": "9jvumGSn4w0R",
        "outputId": "a5e1b6bd-b793-4312-b929-fe8498fc9613"
      },
      "outputs": [
        {
          "name": "stdout",
          "output_type": "stream",
          "text": [
            "108.0\n"
          ]
        }
      ],
      "source": [
        "# Error en: tf.constant(6.0) o tf.Variable(6.0, trainable=False)\n",
        "x = tf.Variable(6.0, trainable=True) # variable entrenada\n",
        "with tf.GradientTape() as tape:\n",
        "    y = x**3\n",
        "\n",
        "print(tape.gradient(y, x).numpy()) # gradiente  de y c/r a x\n",
        "\n",
        "\n",
        "del tape, x"
      ]
    },
    {
      "attachments": {},
      "cell_type": "markdown",
      "metadata": {
        "id": "bMPzKBV95Jcr"
      },
      "source": [
        "### **1.2 — watch_accessed_variables=Falso**\n",
        "Si no queremos ver todas las variables entrenables automáticamente, podemos establecer el parámetro de la cinta en: GradientTape(watch_accessed_variables=False)\n",
        "\n"
      ]
    },
    {
      "cell_type": "code",
      "execution_count": 43,
      "metadata": {},
      "outputs": [
        {
          "name": "stdout",
          "output_type": "stream",
          "text": [
            "4.0\n"
          ]
        }
      ],
      "source": [
        "x = tf.Variable(6.0, trainable=True)\n",
        "y = tf.Variable(2.0, trainable=True)\n",
        "\n",
        "with tf.GradientTape(watch_accessed_variables=False) as tape:\n",
        "    tape.watch(x)\n",
        "    y_squared = y**2 # 4\n",
        "    z = x * y_squared #dz/dx = y_squared\n",
        "\n",
        "grad = tape.gradient(z, x)\n",
        "print(grad.numpy())\n"
      ]
    },
    {
      "cell_type": "code",
      "execution_count": 5,
      "metadata": {
        "colab": {
          "base_uri": "https://localhost:8080/"
        },
        "id": "69oXvJDz5R_h",
        "outputId": "5bb3e07d-5330-475d-9e53-48257a907da1"
      },
      "outputs": [
        {
          "name": "stdout",
          "output_type": "stream",
          "text": [
            "None\n"
          ]
        }
      ],
      "source": [
        "\n",
        "x = tf.Variable(3.0, trainable=True)\n",
        "with tf.GradientTape(watch_accessed_variables=False) as tape:\n",
        "    y = x**3\n",
        "\n",
        "print(tape.gradient(y, x))\n",
        "\n",
        "del tape, x"
      ]
    },
    {
      "attachments": {},
      "cell_type": "markdown",
      "metadata": {
        "id": "fereeSpn5wKi"
      },
      "source": [
        "Deshabilitar nos da un buen control sobre qué variables queremos ver con watch_accessed_variables\n",
        "\n",
        "Si tiene muchas variables entrenables y no las está optimizando todas a la vez, es posible que desee deshabilitarlas para protegerse de errores."
      ]
    },
    {
      "attachments": {},
      "cell_type": "markdown",
      "metadata": {
        "id": "Odiet-Oa53zQ"
      },
      "source": [
        "### **1.3 — Derivadas de orden superior**\n",
        "\n",
        "Si desea calcular derivadas de orden superior, puede utilizar anidados:GradientTapes"
      ]
    },
    {
      "cell_type": "code",
      "execution_count": 44,
      "metadata": {},
      "outputs": [
        {
          "name": "stdout",
          "output_type": "stream",
          "text": [
            "12.0\n",
            "12.0\n"
          ]
        }
      ],
      "source": [
        "x = tf.Variable(2.0, trainable=True)\n",
        "\n",
        "with tf.GradientTape() as tape1:\n",
        "    with tf.GradientTape() as tape2:\n",
        "        y = x**3\n",
        "    \n",
        "    dy_dx = tape2.gradient(y, x)  # Primera derivada\n",
        "d2y_dx2 = tape1.gradient(dy_dx, x)  # Segunda derivada\n",
        "\n",
        "print(dy_dx.numpy())  # Imprimir el valor de la primera derivada\n",
        "print(d2y_dx2.numpy())  # Imprimir el valor de la segunda derivada\n"
      ]
    },
    {
      "cell_type": "code",
      "execution_count": 6,
      "metadata": {
        "colab": {
          "base_uri": "https://localhost:8080/"
        },
        "id": "sHRnhfXC5-Xg",
        "outputId": "09c59349-a73f-4d98-ffa4-852b8ee0cd6b"
      },
      "outputs": [
        {
          "name": "stdout",
          "output_type": "stream",
          "text": [
            "108.0\n",
            "108.0\n",
            "72.0\n"
          ]
        }
      ],
      "source": [
        "import tensorflow as tf\n",
        "\n",
        "x = tf.Variable(3.0, trainable=True)\n",
        "\n",
        "with tf.GradientTape() as tape1:  # primera derivada\n",
        "    with tf.GradientTape() as tape2:  # segunda derivada\n",
        "        with tf.GradientTape() as tape3:  # tercera derivada\n",
        "            y = x ** 4\n",
        "        order_1 = tape3.gradient(y, x)\n",
        "    order_2 = tape2.gradient(order_1, x)\n",
        "order_3 = tape1.gradient(order_2, x)\n",
        "\n",
        "print(order_1.numpy())\n",
        "print(order_2.numpy())\n",
        "print(order_3.numpy())\n",
        "\n",
        "del x, tape1, tape2, tape3, order_1, order_2, order_3\n"
      ]
    },
    {
      "attachments": {},
      "cell_type": "markdown",
      "metadata": {
        "id": "L7_fjxkW6ErC"
      },
      "source": [
        "Las derivadas de orden superior son generalmente el único momento en que desea calcular gradientes dentro de un objeto. De lo contrario, ralentizará los cálculos a medida que observa cada cálculo realizado en el GradientTapeGradientTape\n",
        "\n"
      ]
    },
    {
      "attachments": {},
      "cell_type": "markdown",
      "metadata": {
        "id": "pEFo6MpM6IvI"
      },
      "source": [
        "### **1.4 — persistent=True**\n",
        "\n",
        "Si tuviéramos que ejecutar lo siguiente:"
      ]
    },
    {
      "cell_type": "code",
      "execution_count": 7,
      "metadata": {
        "colab": {
          "base_uri": "https://localhost:8080/"
        },
        "id": "EnlWQl9a6NL2",
        "outputId": "ffe1e19e-91c0-49b8-ebbf-c0b0cdbb593b"
      },
      "outputs": [
        {
          "name": "stdout",
          "output_type": "stream",
          "text": [
            "12.0\n",
            "12.0\n"
          ]
        }
      ],
      "source": [
        "a = tf.Variable(6.0, trainable=True)\n",
        "b = tf.Variable(2.0, trainable=True)\n",
        "with tf.GradientTape(persistent=True) as tape:\n",
        "    y1 = a ** 2\n",
        "    y2 = b ** 3\n",
        "                                                                                                                                                                                                                                                                                                                                                \n",
        "print(tape.gradient(y1, a).numpy())\n",
        "print(tape.gradient(y2, b).numpy())\n",
        "\n",
        "del a, b, tape, y1, y2"
      ]
    },
    {
      "attachments": {},
      "cell_type": "markdown",
      "metadata": {
        "id": "9vlxtm9U6Tea"
      },
      "source": [
        "Pero en realidad, llamar por segunda vez generará un error.tape.gradient\n",
        "\n",
        "Esto se debe a que inmediatamente después de llamar, libera toda la información almacenada en su interior con fines computacionales.\n",
        "\n",
        "Si queremos evitar esto, podemos configurar persistent=True"
      ]
    },
    {
      "attachments": {},
      "cell_type": "markdown",
      "metadata": {
        "id": "19vsEorR6eus"
      },
      "source": [
        "### **1.5 — stop_recording()**\n",
        "\n",
        "tape.stop_recording() pausa temporalmente la grabación de las cintas, lo que lleva a una mayor velocidad de cálculo."
      ]
    },
    {
      "cell_type": "code",
      "execution_count": 8,
      "metadata": {
        "colab": {
          "base_uri": "https://localhost:8080/"
        },
        "id": "0Cs1ttaQ6mEm",
        "outputId": "a8e81ea1-2226-450e-9d51-26a6dae876c6"
      },
      "outputs": [
        {
          "name": "stdout",
          "output_type": "stream",
          "text": [
            "27.0\n"
          ]
        }
      ],
      "source": [
        "x = tf.Variable(3.0, trainable=True)\n",
        "with tf.GradientTape() as tape:\n",
        "    y = x**3\n",
        "    with tape.stop_recording():\n",
        "        # Poner tape.gradient fuera de un bloque stop_recording, pero dentro del bloque de cinta, generará una advertencia sobre la ineficiencia.\n",
        "        print(tape.gradient(y, x).numpy())\n",
        "\n",
        "del tape, x"
      ]
    },
    {
      "attachments": {},
      "cell_type": "markdown",
      "metadata": {
        "id": "v6NqB5UN6sZT"
      },
      "source": [
        "En funciones largas, es más legible usar bloques varias veces para calcular gradientes en medio de una función, que calcular todos los gradientes al final de una función.stop_recording"
      ]
    },
    {
      "cell_type": "code",
      "execution_count": 9,
      "metadata": {
        "colab": {
          "base_uri": "https://localhost:8080/"
        },
        "id": "TzYDGcLd6yVy",
        "outputId": "45ad2a98-269f-4e0a-d177-adbfe7c39510"
      },
      "outputs": [
        {
          "name": "stdout",
          "output_type": "stream",
          "text": [
            "12.0\n",
            "12.0\n"
          ]
        }
      ],
      "source": [
        "a = tf.Variable(6.0, trainable=True)\n",
        "b = tf.Variable(2.0, trainable=True)\n",
        "with tf.GradientTape(persistent=True) as tape:\n",
        "    y1 = a ** 2\n",
        "    with tape.stop_recording():\n",
        "        print(tape.gradient(y1, a).numpy())\n",
        "    \n",
        "    y2 = b ** 3\n",
        "    with tape.stop_recording():\n",
        "        print(tape.gradient(y2, b).numpy())\n",
        "                                                                                                                                                                                                                                                                                                                                                \n",
        "\n",
        "del a, b, tape, y1, y2"
      ]
    },
    {
      "attachments": {},
      "cell_type": "markdown",
      "metadata": {
        "id": "ssztJvAI64xo"
      },
      "source": [
        "El efecto es menos notable y posiblemente incluso lo contrario para un pequeño ejemplo, sin embargo, para una gran parte del código, creo que los bloques ayudan con creces a mejorar la legibilidad.stop_recording"
      ]
    },
    {
      "attachments": {},
      "cell_type": "markdown",
      "metadata": {
        "id": "LUltILpU6_Dq"
      },
      "source": [
        "### **1.6 — Otros métodos**\n",
        "\n",
        "Aunque no se entrará en detalles aquí, tiene algunos otros métodos útiles, que incluyen:GradientTape\n",
        "\n",
        "- jacobian: \"Calcula el jacobiano usando operaciones grabadas en el contexto de esta cinta.\"\n",
        "- batch_jacobian: \"Calcula y apila por ejemplo jacobianos\".\n",
        "- reset: \"Borra toda la información almacenada en esta cinta\".\n",
        "- watched_variables: \"Devuelve las variables observadas por esta cinta en orden de construcción\".\n",
        "Toda la información anterior citada de la documentación de GradientTape."
      ]
    },
    {
      "attachments": {},
      "cell_type": "markdown",
      "metadata": {
        "id": "YtEPQtZQ7GEY"
      },
      "source": [
        "## **Usos avanzados**"
      ]
    },
    {
      "attachments": {},
      "cell_type": "markdown",
      "metadata": {
        "id": "ONjfZfli7K9z"
      },
      "source": [
        "### **2.0 — Regresión lineal**\n",
        "\n",
        "Para comenzar con los usos más avanzados de GradientTape, veamos un clásico \"¡Hola mundo!\" a ML: regresión lineal.\n",
        "\n",
        "Primero, comenzamos definiendo algunas variables y funciones esenciales."
      ]
    },
    {
      "cell_type": "code",
      "execution_count": 10,
      "metadata": {
        "colab": {
          "base_uri": "https://localhost:8080/",
          "height": 524
        },
        "id": "HUhEhnZ27QOU",
        "outputId": "f4add849-2a3b-449f-ba8d-67c0ed358fc6"
      },
      "outputs": [
        {
          "name": "stdout",
          "output_type": "stream",
          "text": [
            "[ 0  1  2  3  4  5  6  7  8  9 10]\n",
            "[  5  15  25  35  45  55  65  75  85  95 105]\n",
            "y ≈ 9.99875545501709x + 4.989348888397217\n"
          ]
        },
        {
          "data": {
            "image/png": "[encoded data removed]",
            "text/plain": [
              "<Figure size 640x480 with 1 Axes>"
            ]
          },
          "metadata": {},
          "output_type": "display_data"
        }
      ],
      "source": [
        "import random\n",
        "import numpy as np\n",
        "import matplotlib.pyplot as plt\n",
        "\n",
        "# Función de pérdida(lost)\n",
        "def loss(real_y, pred_y):\n",
        "    return tf.abs(real_y - pred_y) #MSE\n",
        "\n",
        "# Datos de entrenamiento\n",
        "x_train = np.asarray([0, 1, 2, 3, 4, 5, 6, 7, 8, 9, 10])\n",
        "y_train = np.asarray([i*10+5 for i in x_train]) # y = 10x+5\n",
        "print(x_train)\n",
        "print(y_train)\n",
        "# Variables entrenables\n",
        "a = tf.Variable(random.random(), trainable=True)\n",
        "b = tf.Variable(random.random(), trainable=True)\n",
        "\n",
        "# función de paso\n",
        "def step(real_x, real_y):\n",
        "    with tf.GradientTape(persistent=True) as tape:\n",
        "        # Hacer predicción\n",
        "        pred_y = a * real_x + b\n",
        "        # Cáclulo de pérdida\n",
        "        reg_loss = loss(real_y, pred_y)\n",
        "        \n",
        "    \n",
        "    # Cacula gradientes\n",
        "    a_gradients, b_gradients = tape.gradient(reg_loss, (a, b))\n",
        "\n",
        "    # actualiza las variables\n",
        "    a.assign_sub(a_gradients * 0.001)\n",
        "    b.assign_sub(b_gradients * 0.001)\n",
        "\n",
        "# ciclo de entrenamiento\n",
        "for _ in range(10000):\n",
        "    step(x_train, y_train)\n",
        "\n",
        "print(f'y ≈ {a.numpy()}x + {b.numpy()}')\n",
        "# Graficar la función de la regresión lineal\n",
        "x_range = np.linspace(0, 10, 3) # definimos 3 datos  desde 0 hasta 10 dividios proporcionalmente\n",
        "y_pred = a.numpy() * x_range + b.numpy() # definimos la funcion predicha con los parametros calculados anteriormente\n",
        "# GRAFICAMOS LAS VARIABLES TANTO DE X COMO DE Y\n",
        "plt.plot(x_train, y_train, 'ro', label='Datos de entrenamiento')\n",
        "plt.plot(x_range, y_pred, 'b-', label='Regresión lineal')\n",
        "plt.xlabel('x')\n",
        "plt.ylabel('y')\n",
        "plt.title('Regresión Lineal')\n",
        "plt.legend()\n",
        "plt.show()\n",
        "del a, b, x_train, y_train, step, loss"
      ]
    },
    {
      "cell_type": "code",
      "execution_count": 11,
      "metadata": {
        "colab": {
          "base_uri": "https://localhost:8080/"
        },
        "id": "8Ch-uQfG_OE9",
        "outputId": "e42af89e-6fee-438e-8aa6-901b16f31b3f"
      },
      "outputs": [
        {
          "data": {
            "text/plain": [
              "array([ 0.,  5., 10.])"
            ]
          },
          "execution_count": 11,
          "metadata": {},
          "output_type": "execute_result"
        }
      ],
      "source": [
        "x_range = np.linspace(0, 10, 3) # definimos 3 datos  desde 0 hasta 10 dividios proporcionalmente\n",
        "x_range"
      ]
    },
    {
      "attachments": {},
      "cell_type": "markdown",
      "metadata": {
        "id": "JOK0nO9c7abG"
      },
      "source": [
        "La función de paso se ejecutará en cada época para actualizar las variables entrenables, a y b\n",
        "\n"
      ]
    },
    {
      "attachments": {},
      "cell_type": "markdown",
      "metadata": {
        "id": "5jwtJDda7lMJ"
      },
      "source": [
        "### **2.1 — Regresión polinómica**\n",
        "\n",
        "Podemos ampliar rápidamente el ejemplo anterior para trabajar con cualquier polinomio.\n",
        "\n",
        "Simplemente cambie las variables que estamos usando y la ecuación que estamos optimizando."
      ]
    },
    {
      "cell_type": "code",
      "execution_count": 12,
      "metadata": {
        "colab": {
          "base_uri": "https://localhost:8080/",
          "height": 524
        },
        "id": "ZNIw_0W77vK6",
        "outputId": "e196558a-8b8a-4edb-a749-822148b86ee7"
      },
      "outputs": [
        {
          "name": "stdout",
          "output_type": "stream",
          "text": [
            "[ 0  1  2  3  4  5  6  7  8  9 10]\n",
            "[  2  16  42  80 130 192 266 352 450 560 682]\n",
            "y ≈ 6.007733345031738x^2 + 7.543153762817383x + 1.9993382692337036\n"
          ]
        },
        {
          "data": {
            "image/png": "[encoded data removed]",
            "text/plain": [
              "<Figure size 640x480 with 1 Axes>"
            ]
          },
          "metadata": {},
          "output_type": "display_data"
        }
      ],
      "source": [
        "from prompt_toolkit.shortcuts.progress_bar import Label\n",
        "\n",
        "import random\n",
        "import numpy as np\n",
        "import matplotlib.pyplot as plt\n",
        "# función de pérdida\n",
        "def loss(real_y, pred_y):\n",
        "    return tf.abs(real_y - pred_y)\n",
        "\n",
        "# Datos de entrenamiento\n",
        "x_train = np.asarray([0, 1, 2, 3, 4, 5, 6, 7, 8, 9, 10])\n",
        "y_train = np.asarray([6*i**2 + 8*i + 2 for i in x_train]) # y = 6x^2 + 8x + 2\n",
        "print(x_train)\n",
        "print(y_train)\n",
        "# variables entrenables\n",
        "a = tf.Variable(random.random(), trainable=True)\n",
        "b = tf.Variable(random.random(), trainable=True)\n",
        "c = tf.Variable(random.random(), trainable=True)\n",
        "\n",
        "# función de paso\n",
        "def step(real_x, real_y):\n",
        "    with tf.GradientTape(persistent=True) as tape:\n",
        "        # hacer predicción\n",
        "        pred_y = a*real_x**2 + b*real_x + c\n",
        "        # Calcular pérdida\n",
        "        poly_loss = loss(real_y, pred_y)\n",
        "    \n",
        "    # Calcular gradientes\n",
        "    a_gradients, b_gradients, c_gradients = tape.gradient(poly_loss, (a, b, c))\n",
        "\n",
        "    # actualizar variables\n",
        "    a.assign_sub(a_gradients * 0.001)\n",
        "    b.assign_sub(b_gradients * 0.001)\n",
        "    c.assign_sub(c_gradients * 0.001)\n",
        "\n",
        "# Ciclo de entrenamiento\n",
        "for _ in range(100000):\n",
        "    step(x_train, y_train)\n",
        "\n",
        "print(f'y ≈ {a.numpy()}x^2 + {b.numpy()}x + {c.numpy()}')\n",
        "\n",
        "#Grafica d ela funcion\n",
        "# Graficar la función polinomial\n",
        "x_range = np.linspace(0, 10, 100)\n",
        "\n",
        "# Encontrar los parametros de la regresion polinomial\n",
        "# a , b , c -> Ecuacion polinomica\n",
        "y_pred = a.numpy() * x_range**2 + b.numpy() * x_range + c.numpy()\n",
        "\n",
        "plt.plot(x_train, y_train, 'ro', label='Datos de entrenamiento')\n",
        "plt.plot(x_range, y_pred, 'b-', label='Regresión polinomial')\n",
        "plt.xlabel('x')\n",
        "plt.ylabel('y')\n",
        "plt.title('Regresión Polinomial')\n",
        "plt.legend()\n",
        "plt.show()\n",
        "\n",
        "del a, b, x_train, y_train, step, loss\n"
      ]
    },
    {
      "attachments": {},
      "cell_type": "markdown",
      "metadata": {
        "id": "NEbV3EkF8XbC"
      },
      "source": [
        "### **2.2 — Clasificación de MNIST**\n",
        "\n",
        "La regresión polinómica es divertida y todo, pero el verdadero problema es optimizar las redes neuronales.\n",
        "\n",
        "Afortunadamente para nosotros, poco tiene que cambiar de los ejemplos anteriores para hacer precisamente eso.\n",
        "\n",
        "Comenzamos siguiendo el procedimiento estándar, cargando los datos, preprocesándolos y configurando los hiperparámetros."
      ]
    },
    {
      "cell_type": "code",
      "execution_count": 13,
      "metadata": {
        "id": "byuAFfLIJqVf"
      },
      "outputs": [],
      "source": [
        "# imports necesarios\n",
        "import numpy as np\n",
        "import tensorflow as tf\n",
        "import matplotlib.pyplot as plt"
      ]
    },
    {
      "cell_type": "code",
      "execution_count": 14,
      "metadata": {
        "id": "W4fEhofyKCVu"
      },
      "outputs": [],
      "source": [
        "# parámetros\n",
        "learning_rate = 0.01\n",
        "n_epochs = 100\n",
        "batch_size = 100"
      ]
    },
    {
      "cell_type": "code",
      "execution_count": 15,
      "metadata": {
        "colab": {
          "base_uri": "https://localhost:8080/"
        },
        "id": "JnTRQy4FMoF4",
        "outputId": "6b455410-5249-4d83-bc15-978a12f1e1a0"
      },
      "outputs": [],
      "source": [
        "# cargamos el dataset\n",
        "(x_train, y_train), (x_test, y_test) = tf.keras.datasets.mnist.load_data()"
      ]
    },
    {
      "attachments": {},
      "cell_type": "markdown",
      "metadata": {
        "id": "buLtcLLOVIHf"
      },
      "source": [
        "Comprobamos cómo es el dataset que hemos cargado y si necesita normalización:"
      ]
    },
    {
      "cell_type": "code",
      "execution_count": 16,
      "metadata": {
        "colab": {
          "base_uri": "https://localhost:8080/"
        },
        "id": "_1QxxEEoMtfh",
        "outputId": "2a9c9713-9d0c-49ba-9cd3-f9fddfb5bed0"
      },
      "outputs": [
        {
          "data": {
            "text/plain": [
              "(60000, 28, 28)"
            ]
          },
          "execution_count": 16,
          "metadata": {},
          "output_type": "execute_result"
        }
      ],
      "source": [
        "x_train.shape"
      ]
    },
    {
      "cell_type": "code",
      "execution_count": 17,
      "metadata": {
        "colab": {
          "base_uri": "https://localhost:8080/"
        },
        "id": "rmuAvH7QMw6P",
        "outputId": "8e2dfa00-5b2c-4131-86e1-18c846afa2d0"
      },
      "outputs": [
        {
          "data": {
            "text/plain": [
              "(10000, 28, 28)"
            ]
          },
          "execution_count": 17,
          "metadata": {},
          "output_type": "execute_result"
        }
      ],
      "source": [
        "x_test.shape"
      ]
    },
    {
      "cell_type": "code",
      "execution_count": 18,
      "metadata": {
        "colab": {
          "base_uri": "https://localhost:8080/"
        },
        "id": "7lhJ-xEeMybb",
        "outputId": "d04971a8-3eb9-411f-f68b-cf6b22bcc845"
      },
      "outputs": [
        {
          "data": {
            "text/plain": [
              "255"
            ]
          },
          "execution_count": 18,
          "metadata": {},
          "output_type": "execute_result"
        }
      ],
      "source": [
        "x_train.max()"
      ]
    },
    {
      "cell_type": "code",
      "execution_count": 19,
      "metadata": {
        "colab": {
          "base_uri": "https://localhost:8080/"
        },
        "id": "YX399uaBM3pR",
        "outputId": "4c73eae1-f540-4dfa-bd1e-4aab46ddd3eb"
      },
      "outputs": [
        {
          "data": {
            "text/plain": [
              "255"
            ]
          },
          "execution_count": 19,
          "metadata": {},
          "output_type": "execute_result"
        }
      ],
      "source": [
        "x_test.max()"
      ]
    },
    {
      "cell_type": "code",
      "execution_count": 20,
      "metadata": {
        "id": "WWUO6yohM8Xe"
      },
      "outputs": [],
      "source": [
        "# vamos a normalizar entre 0 y 1\n",
        "x_train = x_train / 255.\n",
        "x_test = x_test / 255."
      ]
    },
    {
      "cell_type": "code",
      "execution_count": 21,
      "metadata": {
        "colab": {
          "base_uri": "https://localhost:8080/"
        },
        "id": "k_VdxOQUM_gn",
        "outputId": "0446051c-ad5b-4046-bfb3-b1c6328bea3c"
      },
      "outputs": [
        {
          "name": "stdout",
          "output_type": "stream",
          "text": [
            "1.0\n",
            "1.0\n"
          ]
        }
      ],
      "source": [
        "print(x_train.max())\n",
        "print(x_test.max())"
      ]
    },
    {
      "attachments": {},
      "cell_type": "markdown",
      "metadata": {
        "id": "vjPmmamYVPt3"
      },
      "source": [
        "También necesitamos convertir las imágenes a vectores."
      ]
    },
    {
      "cell_type": "code",
      "execution_count": 22,
      "metadata": {
        "colab": {
          "base_uri": "https://localhost:8080/"
        },
        "id": "qAUG3jdGNC5Z",
        "outputId": "fb8f0c37-1bdc-4cc2-ff91-493e72827133"
      },
      "outputs": [
        {
          "name": "stdout",
          "output_type": "stream",
          "text": [
            "tf.Tensor(\n",
            "[[0. 0. 0. ... 0. 0. 0.]\n",
            " [0. 0. 0. ... 0. 0. 0.]\n",
            " [0. 0. 0. ... 0. 0. 0.]\n",
            " ...\n",
            " [0. 0. 0. ... 0. 0. 0.]\n",
            " [0. 0. 0. ... 0. 0. 0.]\n",
            " [0. 0. 0. ... 0. 0. 0.]], shape=(60000, 784), dtype=float64)\n"
          ]
        }
      ],
      "source": [
        "# FLUTEN\n",
        "x_train = tf.reshape(x_train, shape=(60000, -1))\n",
        "print(x_train)"
      ]
    },
    {
      "cell_type": "code",
      "execution_count": 23,
      "metadata": {
        "colab": {
          "base_uri": "https://localhost:8080/"
        },
        "id": "59MdVQpuNKjr",
        "outputId": "6a761c3e-552f-4e4b-fc6f-bd053c0a88e4"
      },
      "outputs": [
        {
          "name": "stdout",
          "output_type": "stream",
          "text": [
            "tf.Tensor(\n",
            "[[0. 0. 0. ... 0. 0. 0.]\n",
            " [0. 0. 0. ... 0. 0. 0.]\n",
            " [0. 0. 0. ... 0. 0. 0.]\n",
            " ...\n",
            " [0. 0. 0. ... 0. 0. 0.]\n",
            " [0. 0. 0. ... 0. 0. 0.]\n",
            " [0. 0. 0. ... 0. 0. 0.]], shape=(10000, 784), dtype=float64)\n"
          ]
        }
      ],
      "source": [
        "x_test = tf.reshape(x_test, shape=(10000, -1))\n",
        "print(x_test)"
      ]
    },
    {
      "attachments": {},
      "cell_type": "markdown",
      "metadata": {
        "id": "swlg-Oi6VxuK"
      },
      "source": [
        "Ahora nuestros datos ya están en formato [N_instancias, variables] (60000 instancias, 784 (28x28) píxeles).\n",
        "\n",
        "A continuación, debemos fijarnos en el formato de nuestras etiquetas, que en este caso tendrán que estar codificadas en one-hot. De lo contrario, obtendremos un error."
      ]
    },
    {
      "cell_type": "code",
      "execution_count": 24,
      "metadata": {
        "colab": {
          "base_uri": "https://localhost:8080/"
        },
        "id": "WNdacIxTNSHT",
        "outputId": "a983853e-d7fc-4150-8109-12b8ecd2e973"
      },
      "outputs": [
        {
          "name": "stdout",
          "output_type": "stream",
          "text": [
            "[5 0 4 ... 5 6 8]\n",
            "[7 2 1 ... 4 5 6]\n",
            "(60000,)\n",
            "(10000,)\n"
          ]
        }
      ],
      "source": [
        "print(y_train)\n",
        "print(y_test)\n",
        "print(y_train.shape)\n",
        "print(y_test.shape)"
      ]
    },
    {
      "cell_type": "code",
      "execution_count": 25,
      "metadata": {
        "colab": {
          "base_uri": "https://localhost:8080/"
        },
        "id": "-mDazWHBNV3n",
        "outputId": "222bb18a-2803-44f1-904c-43bf19d9f5a1"
      },
      "outputs": [
        {
          "name": "stdout",
          "output_type": "stream",
          "text": [
            "(60000, 10)\n",
            "(10000, 10)\n"
          ]
        }
      ],
      "source": [
        "# convertimos las etiquetas a one-hot\n",
        "y_train = tf.one_hot(y_train, depth=10)\n",
        "y_test = tf.one_hot(y_test, depth=10)\n",
        "\n",
        "print(y_train.shape)\n",
        "print(y_test.shape)"
      ]
    },
    {
      "cell_type": "code",
      "execution_count": 26,
      "metadata": {
        "colab": {
          "base_uri": "https://localhost:8080/"
        },
        "id": "40rRNFUkFgiR",
        "outputId": "1d205ba8-08c0-44dc-8ffd-2d2625d9cc58"
      },
      "outputs": [
        {
          "data": {
            "text/plain": [
              "array([0., 0., 0., 0., 0., 1., 0., 0., 0., 0.], dtype=float32)"
            ]
          },
          "execution_count": 26,
          "metadata": {},
          "output_type": "execute_result"
        }
      ],
      "source": [
        "np.array(y_train[0])"
      ]
    },
    {
      "cell_type": "code",
      "execution_count": 27,
      "metadata": {
        "colab": {
          "base_uri": "https://localhost:8080/"
        },
        "id": "I0EY4gbqNczO",
        "outputId": "1794238d-af03-4a7a-ee0e-8c8a03c49b6f"
      },
      "outputs": [
        {
          "name": "stdout",
          "output_type": "stream",
          "text": [
            "<dtype: 'float64'>\n",
            "<dtype: 'float64'>\n",
            "<dtype: 'float32'>\n",
            "<dtype: 'float32'>\n"
          ]
        }
      ],
      "source": [
        "print(x_train.dtype)\n",
        "print(x_test.dtype)\n",
        "print(y_train.dtype)\n",
        "print(y_test.dtype)"
      ]
    },
    {
      "cell_type": "code",
      "execution_count": 28,
      "metadata": {
        "id": "AYaJE7YDNgfn"
      },
      "outputs": [],
      "source": [
        "# convertimos las etiquetas a float64\n",
        "y_train = tf.cast(y_train, 'float64')\n",
        "y_test = tf.cast(y_test, 'float64')"
      ]
    },
    {
      "cell_type": "code",
      "execution_count": 29,
      "metadata": {
        "colab": {
          "base_uri": "https://localhost:8080/"
        },
        "id": "UDzl--0ENnoJ",
        "outputId": "cc5d8cbe-43cf-492d-8843-2aeab8d3a789"
      },
      "outputs": [
        {
          "name": "stdout",
          "output_type": "stream",
          "text": [
            "<dtype: 'float64'>\n",
            "<dtype: 'float64'>\n",
            "<dtype: 'float64'>\n",
            "<dtype: 'float64'>\n"
          ]
        }
      ],
      "source": [
        "print(x_train.dtype)\n",
        "print(x_test.dtype)\n",
        "print(y_train.dtype)\n",
        "print(y_test.dtype)"
      ]
    },
    {
      "cell_type": "code",
      "execution_count": 30,
      "metadata": {
        "id": "6YdQvgppNshc"
      },
      "outputs": [],
      "source": [
        "train_ds = tf.data.Dataset.from_tensor_slices((x_train, y_train))\n",
        "train_ds = train_ds.shuffle(10000).batch(batch_size)\n",
        "\n",
        "# para el conjunto de test no vamos a necesitar el dataloader porque\n",
        "# no vamos a procesar los datos por batches, sino todos a la vez, así \n",
        "# que utilizaremos x_test y y_test. \n",
        "# Si fuesemos a procesarlo por batches, se haría así:\n",
        "# test_ds = tf.data.Dataset.from_tensor_slices((x_test, y_test))\n",
        "# test_ds = test_ds.batch(batch_size)"
      ]
    },
    {
      "cell_type": "code",
      "execution_count": 31,
      "metadata": {
        "colab": {
          "base_uri": "https://localhost:8080/"
        },
        "id": "rh0j3qzRN1fR",
        "outputId": "e21fda8e-54ee-4511-e957-d63dd92a581b"
      },
      "outputs": [
        {
          "name": "stdout",
          "output_type": "stream",
          "text": [
            "600\n"
          ]
        }
      ],
      "source": [
        "# ¿Cuántas iteraciones habrá por época? \n",
        "# en una época se tienen que ver todos los elementos del dataset, y estamos\n",
        "# pasándole los elementos de 100 en 100, así que habrá 60000 / 100 = 600 épocas\n",
        "total_batch = x_train.shape[0] // batch_size\n",
        "print(total_batch)"
      ]
    },
    {
      "cell_type": "code",
      "execution_count": 32,
      "metadata": {
        "colab": {
          "base_uri": "https://localhost:8080/"
        },
        "id": "b2LtT4hfN8ox",
        "outputId": "bf9fef9a-085a-4b88-cfeb-0b1665fd42e3"
      },
      "outputs": [
        {
          "name": "stdout",
          "output_type": "stream",
          "text": [
            "[0] cost: 1.1449214845858053\n",
            "[1] cost: 0.6415581193470615\n",
            "[2] cost: 0.5356627074010492\n",
            "[3] cost: 0.48455561988523005\n",
            "[4] cost: 0.453218891978922\n",
            "[5] cost: 0.431494324159251\n",
            "[6] cost: 0.41528404243703776\n",
            "[7] cost: 0.4026696230544982\n",
            "[8] cost: 0.39235515498642376\n",
            "[9] cost: 0.3838443612976322\n",
            "[10] cost: 0.3765399838234924\n",
            "[11] cost: 0.37023490567956446\n",
            "[12] cost: 0.3648129510432718\n",
            "[13] cost: 0.3599586915859868\n",
            "[14] cost: 0.35558229366300126\n",
            "[15] cost: 0.3516963757958609\n",
            "[16] cost: 0.3481322697152816\n",
            "[17] cost: 0.34488316086158427\n",
            "[18] cost: 0.3418994195391211\n",
            "[19] cost: 0.3391525376903908\n",
            "[20] cost: 0.33660122361797973\n",
            "[21] cost: 0.3342050456516221\n",
            "[22] cost: 0.3319659751490192\n",
            "[23] cost: 0.32994495213935454\n",
            "[24] cost: 0.32794542161039236\n",
            "[25] cost: 0.32609653984831033\n",
            "[26] cost: 0.32440850416658923\n",
            "[27] cost: 0.32276227142360125\n",
            "[28] cost: 0.3212092869806702\n",
            "[29] cost: 0.31972070089125976\n",
            "[30] cost: 0.31831618524105876\n",
            "[31] cost: 0.31694556701350945\n",
            "[32] cost: 0.3157300031497395\n",
            "[33] cost: 0.31450144892004056\n",
            "[34] cost: 0.31335865749948494\n",
            "[35] cost: 0.3122450808427502\n",
            "[36] cost: 0.3111536422754589\n",
            "[37] cost: 0.3101294774995741\n",
            "[38] cost: 0.3091250659582151\n",
            "[39] cost: 0.30816913694399156\n",
            "[40] cost: 0.3072480902062455\n",
            "[41] cost: 0.30635789448047096\n",
            "[42] cost: 0.3055022061062837\n",
            "[43] cost: 0.30467634120836307\n",
            "[44] cost: 0.3038783985302599\n",
            "[45] cost: 0.30312997014246096\n",
            "[46] cost: 0.3023545981051546\n",
            "[47] cost: 0.3016138264139004\n",
            "[48] cost: 0.3008997768182609\n",
            "[49] cost: 0.30021305154400435\n",
            "[50] cost: 0.2995603769157206\n",
            "[51] cost: 0.2989021253677138\n",
            "[52] cost: 0.2982736991920747\n",
            "[53] cost: 0.29763631977669325\n",
            "[54] cost: 0.29704634688522563\n",
            "[55] cost: 0.29648135718474444\n",
            "[56] cost: 0.2959117045801311\n",
            "[57] cost: 0.29537970472883324\n",
            "[58] cost: 0.29482134526663367\n",
            "[59] cost: 0.2942885150029907\n",
            "[60] cost: 0.2937846912958725\n",
            "[61] cost: 0.2932609510130797\n",
            "[62] cost: 0.2927795372135324\n",
            "[63] cost: 0.2923233119534113\n",
            "[64] cost: 0.2918497180009165\n",
            "[65] cost: 0.29138986356916585\n",
            "[66] cost: 0.2909701376727914\n",
            "[67] cost: 0.29049345794649284\n",
            "[68] cost: 0.2900677930108484\n",
            "[69] cost: 0.28964769048340194\n",
            "[70] cost: 0.2892493908707664\n",
            "[71] cost: 0.2888387714284021\n",
            "[72] cost: 0.2884227655061193\n",
            "[73] cost: 0.2880988980004987\n",
            "[74] cost: 0.2876634844840009\n",
            "[75] cost: 0.2873157177322452\n",
            "[76] cost: 0.28694068027218844\n",
            "[77] cost: 0.2865295049123099\n",
            "[78] cost: 0.2862345849043538\n",
            "[79] cost: 0.28588278258205985\n",
            "[80] cost: 0.2855413645921259\n",
            "[81] cost: 0.28522229316434444\n",
            "[82] cost: 0.28487455022505753\n",
            "[83] cost: 0.2845332361287333\n",
            "[84] cost: 0.284237790176006\n",
            "[85] cost: 0.28394238932894744\n",
            "[86] cost: 0.28359500499248524\n",
            "[87] cost: 0.2833517939442686\n",
            "[88] cost: 0.28298778574905664\n",
            "[89] cost: 0.28273278682585995\n",
            "[90] cost: 0.28244726780309526\n",
            "[91] cost: 0.28213740776417656\n",
            "[92] cost: 0.28189373514177085\n",
            "[93] cost: 0.2815972539163219\n",
            "[94] cost: 0.28131794766090207\n",
            "[95] cost: 0.2810559767703694\n",
            "[96] cost: 0.28080684338721307\n",
            "[97] cost: 0.2805297494936375\n",
            "[98] cost: 0.28027098680096596\n",
            "[99] cost: 0.28003311968078604\n",
            "Entrenamiento finalizado!!\n"
          ]
        }
      ],
      "source": [
        "# creamos las variables W y b para el entrenamiento\n",
        "W = tf.zeros([784, 10], tf.double)\n",
        "b = tf.zeros([10], tf.double)\n",
        "\n",
        "# para almacenar el histórico de costes\n",
        "costs = []\n",
        "# entrenamiento de nuestra red\n",
        "for epoch in range(n_epochs):\n",
        "    avg_cost = 0.\n",
        "    \n",
        "    # ¿si en vez de actualizar los pesos para cada imagen, lo hacemos\n",
        "    # de X en X imágenes?\n",
        "    for batch_xs, batch_ys in train_ds: #las 600 pasadas\n",
        "        # empezamos con la optimización\n",
        "  \n",
        "        # usamos tf.GradientTape, que lleva un control de las variables\n",
        "        # para poder calcular sus gradientes\n",
        "        with tf.GradientTape() as tape:\n",
        "            # le indicamos que \"vigile\" las variables a optimizar\n",
        "            tape.watch(W)\n",
        "            tape.watch(b)\n",
        "            \n",
        "            # ejecutamos el modelo\n",
        "            pred = tf.nn.softmax(tf.matmul(batch_xs, W) + b)\n",
        "\n",
        "            # ahora, definimos nuestra función de pérdidas: esta vez, la cros-entropía\n",
        "            # a veces la llaman loss, a veces cost => es lo mismo\n",
        "            cost = tf.reduce_mean(-tf.reduce_sum(batch_ys*tf.math.log(pred), axis=1)) # equivalenete a la funcion de perdida LOST\n",
        "\n",
        "            # calculamos los gradientes (gradient descent)\n",
        "            grad_W, grad_b = tape.gradient(cost, [W, b])\n",
        "\n",
        "            # definimos las operaciones para actualizar los pesos con los gradientes calculados\n",
        "            # y el learning rate\n",
        "            W = W - learning_rate * grad_W\n",
        "            b = b - learning_rate * grad_b\n",
        "\n",
        "        # calculamos el coste teniendo en cuenta los batches que hay\n",
        "        avg_cost += cost / total_batch\n",
        "        \n",
        "    # guardamos nuestro coste en el histórico\n",
        "    costs.append(avg_cost)\n",
        "    \n",
        "    # imprimimos las iteraciones\n",
        "    print(\"[{}] cost: {}\".format(epoch, avg_cost))\n",
        "print(\"Entrenamiento finalizado!!\")"
      ]
    },
    {
      "cell_type": "code",
      "execution_count": 33,
      "metadata": {
        "colab": {
          "base_uri": "https://localhost:8080/"
        },
        "id": "QnuYL83nPRIW",
        "outputId": "dd3a1922-1da9-4d2e-aae0-70b9333a9a99"
      },
      "outputs": [
        {
          "name": "stdout",
          "output_type": "stream",
          "text": [
            "Accuracy: 0.9224\n"
          ]
        }
      ],
      "source": [
        "# comprobamos lo que ha aprendido nuestra red\n",
        "pred = tf.nn.softmax(tf.matmul(x_test, W) + b)\n",
        "correct_prediction = tf.equal(tf.argmax(pred, 1), tf.argmax(y_test, 1))\n",
        "\n",
        "# calculamos el accuracy (precisión)\n",
        "accuracy = tf.reduce_mean(tf.cast(correct_prediction, tf.float32))\n",
        "print(\"Accuracy:\", accuracy.numpy())"
      ]
    },
    {
      "cell_type": "code",
      "execution_count": 34,
      "metadata": {
        "colab": {
          "base_uri": "https://localhost:8080/",
          "height": 489
        },
        "id": "Oz5h_N3hPWdK",
        "outputId": "7e81e5ee-cd9f-4ca7-8636-9b1f1b49f136"
      },
      "outputs": [
        {
          "data": {
            "text/plain": [
              "Text(0, 0.5, 'Loss')"
            ]
          },
          "execution_count": 34,
          "metadata": {},
          "output_type": "execute_result"
        },
        {
          "data": {
            "image/png": "[encoded data removed]",
            "text/plain": [
              "<Figure size 640x480 with 1 Axes>"
            ]
          },
          "metadata": {},
          "output_type": "display_data"
        }
      ],
      "source": [
        "# veamos nuestra función de pérdidas con respecto a las épocas ejecutadas\n",
        "plt.plot(np.arange(0, n_epochs), costs)\n",
        "plt.title(\"Training Loss\")\n",
        "plt.xlabel(\"Epoch #\")\n",
        "plt.ylabel(\"Loss\")"
      ]
    },
    {
      "attachments": {},
      "cell_type": "markdown",
      "metadata": {
        "id": "JvxDI3vbP8Q7"
      },
      "source": [
        "### **TAREA**"
      ]
    },
    {
      "attachments": {},
      "cell_type": "markdown",
      "metadata": {
        "id": "LhCrdexyQAB9"
      },
      "source": [
        "Utilizar la diferenciación automática para calcular los parámetros de la regresión lineal aplicada a los datos proporcionados y comparar con los resultados de la práctica 02."
      ]
    },
    {
      "cell_type": "code",
      "execution_count": null,
      "metadata": {},
      "outputs": [],
      "source": []
    }
  ],
  "metadata": {
    "colab": {
      "provenance": []
    },
    "kernelspec": {
      "display_name": "Python 3",
      "name": "python3"
    },
    "language_info": {
      "codemirror_mode": {
        "name": "ipython",
        "version": 3
      },
      "file_extension": ".py",
      "mimetype": "text/x-python",
      "name": "python",
      "nbconvert_exporter": "python",
      "pygments_lexer": "ipython3",
      "version": "3.10.9"
    }
  },
  "nbformat": 4,
  "nbformat_minor": 0
}
