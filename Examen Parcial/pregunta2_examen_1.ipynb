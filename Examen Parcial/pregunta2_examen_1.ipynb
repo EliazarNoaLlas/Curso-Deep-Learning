{
  "cells": [
    {
      "cell_type": "markdown",
      "metadata": {
        "id": "xgXeSCFHdMRK"
      },
      "source": [
        "#PREGUNTA NRO:2"
      ]
    },
    {
      "cell_type": "code",
      "source": [
        "# Importar librerías\n",
        "from tensorflow.keras.models import Sequential\n",
        "from tensorflow.keras.layers import Dense\n",
        "from tensorflow.keras.optimizers import SGD\n",
        "from keras.utils.np_utils import to_categorical\n",
        "import tensorflow as tf\n",
        "from tensorflow.keras import optimizers\n",
        "import matplotlib.pyplot as plt\n",
        "import numpy as np\n",
        "import pandas as pd"
      ],
      "metadata": {
        "id": "JLZwxLk5tB3d"
      },
      "execution_count": null,
      "outputs": []
    },
    {
      "cell_type": "code",
      "source": [
        "from sklearn.model_selection import train_test_split\n",
        "from numpy import loadtxt\n",
        "# semilla para reproductibilidad.\n",
        "seed = 7\n",
        "np.random.seed(seed)\n",
        "# cargando el dataset de heladas_train\n",
        "dataset = np.loadtxt(\"heladas_train.csv\", delimiter=\",\")\n",
        "print(\"DATASET ORIGINAL\")\n",
        "print(dataset)"
      ],
      "metadata": {
        "colab": {
          "base_uri": "https://localhost:8080/"
        },
        "id": "HUhgZiHXs80B",
        "outputId": "c0b6fd21-a422-414c-ac25-278e5e3d005c"
      },
      "execution_count": null,
      "outputs": [
        {
          "output_type": "stream",
          "name": "stdout",
          "text": [
            "DATASET ORIGINAL\n",
            "[[ 0.309834    0.02480815  0.345034   ...  0.          0.73972603\n",
            "   0.        ]\n",
            " [-0.300064   -0.290056    0.0302427  ...  0.          0.5260274\n",
            "   1.        ]\n",
            " [ 0.364995    0.2048475   0.314858   ...  0.25        0.54520548\n",
            "   0.        ]\n",
            " ...\n",
            " [-0.3049795  -0.225064    0.044782   ...  0.          0.52876712\n",
            "   1.        ]\n",
            " [ 0.190102    0.4951385   0.405116   ...  0.          0.61369863\n",
            "   0.        ]\n",
            " [ 0.3550255   0.399845    0.3948195  ...  0.625       0.43287671\n",
            "   0.        ]]\n"
          ]
        }
      ]
    },
    {
      "cell_type": "code",
      "source": [
        "# Dividir el dataset en variables input(x) y output(y)\n",
        "X = dataset[:,0:6]\n",
        "# Corte del array: [row inicial:rowfinal, datoinicial:datofinal]\n",
        "Y = dataset[:,6]\n",
        "print(\"VALORES DE X\")\n",
        "print(X)\n",
        "print(\"VALORES DE Y\")\n",
        "print(Y)\n"
      ],
      "metadata": {
        "colab": {
          "base_uri": "https://localhost:8080/"
        },
        "id": "9Oi7hqHUtHvP",
        "outputId": "5988a638-d311-45e5-ae62-cc5fad944b4a"
      },
      "execution_count": null,
      "outputs": [
        {
          "output_type": "stream",
          "name": "stdout",
          "text": [
            "VALORES DE X\n",
            "[[ 0.309834    0.02480815  0.345034    0.859595    0.          0.73972603]\n",
            " [-0.300064   -0.290056    0.0302427   0.169555    0.          0.5260274 ]\n",
            " [ 0.364995    0.2048475   0.314858    0.760405    0.25        0.54520548]\n",
            " ...\n",
            " [-0.3049795  -0.225064    0.044782   -0.370363    0.          0.52876712]\n",
            " [ 0.190102    0.4951385   0.405116    0.809982    0.          0.61369863]\n",
            " [ 0.3550255   0.399845    0.3948195   0.81043     0.625       0.43287671]]\n",
            "VALORES DE Y\n",
            "[0. 1. 0. 0. 1. 1. 1. 1. 0. 0. 0. 0. 1. 0. 1. 0. 1. 0. 1. 0. 0. 1. 0. 1.\n",
            " 0. 0. 0. 1. 0. 0. 0. 0. 1. 0. 0. 1. 1. 1. 1. 1. 1. 0. 0. 0. 1. 1. 0. 0.\n",
            " 1. 0. 0. 0. 0. 1. 0. 1. 0. 0. 1. 0. 0. 0. 1. 1. 0. 0. 0. 1. 0. 0. 1. 0.\n",
            " 0. 1. 0. 0. 0. 0. 0. 0. 1. 0. 0. 1. 0. 1. 0. 0. 0. 1. 0. 1. 0. 1. 0. 1.\n",
            " 0. 1. 0. 0. 0. 1. 1. 1. 0. 0. 1. 0. 0. 0. 1. 1. 0. 0. 0. 0. 1. 0. 0. 0.\n",
            " 1. 0. 1. 1. 1. 0. 0. 0. 1. 1. 0. 0. 0. 1. 0. 1. 1. 1. 0. 0. 0. 1. 1. 0.\n",
            " 0. 0. 0. 1. 1. 1. 0. 1. 0. 0. 1. 1. 0. 0. 0. 0. 0. 1. 1. 1. 0. 0. 0. 0.\n",
            " 1. 1. 0. 1. 0. 0. 1. 0. 0. 0. 0. 1. 0. 1. 1. 0. 0. 0. 0. 0. 0. 0. 0. 0.\n",
            " 0. 1. 1. 0. 0. 0. 1. 0. 1. 0. 0. 1. 0. 0. 1. 0. 1. 0. 1. 0. 0. 0. 0. 0.\n",
            " 0. 1. 0. 0. 1. 1. 0. 0. 0. 0. 0. 1. 1. 1. 0. 1. 0. 0. 1. 0. 0. 1. 0. 0.\n",
            " 0. 0. 0. 0. 0. 0. 1. 1. 1. 0. 1. 0. 1. 0. 1. 0. 0. 1. 0. 0. 0. 0. 0. 0.\n",
            " 0. 1. 1. 0. 1. 1. 1. 0. 0. 0. 0. 1. 0. 1. 1. 0. 0. 0. 0. 1. 1. 1. 0. 0.\n",
            " 0. 0. 1. 1. 0. 0. 1. 0. 0. 0. 0. 0. 0. 0. 1. 0. 1. 0. 0. 0. 0. 1. 0. 0.\n",
            " 0. 0. 1. 0. 0. 0. 1. 1. 0. 1. 0. 0. 0. 0. 1. 0. 0. 0. 0. 0. 0. 1. 0. 1.\n",
            " 0. 0. 1. 0. 0. 1. 0. 0. 1. 0. 0. 0. 0. 0. 1. 0. 0. 0. 0. 0. 1. 0. 1. 0.\n",
            " 0. 0. 1. 0. 0. 1. 1. 0. 0. 0. 0. 1. 0. 0. 1. 0. 0. 0. 1. 1. 0. 0. 0. 0.\n",
            " 1. 0. 0. 0. 1. 0. 0. 1. 1. 0. 1. 0. 0. 0. 0. 1. 1. 1. 0. 0. 1. 0. 1. 0.\n",
            " 0. 0. 0. 1. 0. 1. 0. 1. 0. 1. 1. 0. 0. 1. 0. 0. 0. 0. 0. 1. 1. 1. 1. 0.\n",
            " 0. 0. 1. 0. 1. 1. 0. 1. 0. 0. 1. 0. 0. 0. 1. 0. 1. 0. 0. 1. 0. 0. 1. 0.\n",
            " 1. 1. 1. 1. 0. 0. 0. 1. 0. 1. 1. 1. 0. 1. 0. 0. 0. 0. 1. 1. 0. 1. 0. 0.\n",
            " 0. 1. 0. 0. 0. 0. 1. 0. 0. 1. 1. 0. 1. 1. 1. 1. 0. 1. 0. 0.]\n"
          ]
        }
      ]
    },
    {
      "cell_type": "code",
      "source": [
        "#El dataset tiene 500 patrones en el training set, de los cuales 400 se usan para entrenar y 100 para validar el modelo\n",
        "(X,x,Y,y) = train_test_split(X, Y, test_size=0.2,stratify=Y)\n"
      ],
      "metadata": {
        "id": "W_j6sgI4uwiK"
      },
      "execution_count": null,
      "outputs": []
    },
    {
      "cell_type": "code",
      "source": [
        "# Crear el modelo\n",
        "model = Sequential()\n",
        "model.add(Dense(6, input_shape=(6,), activation='relu'))\n",
        "model.add(Dense(20, activation='relu'))\n",
        "model.add(Dense(1, activation='sigmoid'))"
      ],
      "metadata": {
        "id": "3Jd7_NkQtNjz"
      },
      "execution_count": null,
      "outputs": []
    },
    {
      "cell_type": "code",
      "source": [
        "#Configurar Aprendizaje del modelo\n",
        "#Learning rate : 0.01.\n",
        "sgd = SGD(learning_rate=0.001)\n",
        "#Optimizador: Gradiente Descendente Estocástico\n",
        "#Métrica: Accuracy\n",
        "model.compile(loss='binary_crossentropy', optimizer=optimizers.SGD(learning_rate=0.01), metrics=['accuracy'])"
      ],
      "metadata": {
        "id": "1KM05xw2tTFB"
      },
      "execution_count": null,
      "outputs": []
    },
    {
      "cell_type": "code",
      "source": [
        "# Fit model\n",
        "#Neuronas en la capa intermedia: 20\n",
        "#Batch Size: 25\n",
        "h= model.fit(X, Y,epochs=20, batch_size=25) \n",
        "#epoch: Entrenamientos\n",
        "#batch_size: Cantidad de Muestras"
      ],
      "metadata": {
        "colab": {
          "base_uri": "https://localhost:8080/"
        },
        "id": "FrbWeBBStX2j",
        "outputId": "c1d6ee59-6345-4819-a090-ba30464ca6f9"
      },
      "execution_count": null,
      "outputs": [
        {
          "output_type": "stream",
          "name": "stdout",
          "text": [
            "Epoch 1/20\n",
            "16/16 [==============================] - 1s 1ms/step - loss: 0.6873 - accuracy: 0.6325\n",
            "Epoch 2/20\n",
            "16/16 [==============================] - 0s 1ms/step - loss: 0.6812 - accuracy: 0.6325\n",
            "Epoch 3/20\n",
            "16/16 [==============================] - 0s 1ms/step - loss: 0.6756 - accuracy: 0.6325\n",
            "Epoch 4/20\n",
            "16/16 [==============================] - 0s 1ms/step - loss: 0.6706 - accuracy: 0.6325\n",
            "Epoch 5/20\n",
            "16/16 [==============================] - 0s 1ms/step - loss: 0.6664 - accuracy: 0.6325\n",
            "Epoch 6/20\n",
            "16/16 [==============================] - 0s 2ms/step - loss: 0.6626 - accuracy: 0.6325\n",
            "Epoch 7/20\n",
            "16/16 [==============================] - 0s 1ms/step - loss: 0.6594 - accuracy: 0.6325\n",
            "Epoch 8/20\n",
            "16/16 [==============================] - 0s 2ms/step - loss: 0.6565 - accuracy: 0.6325\n",
            "Epoch 9/20\n",
            "16/16 [==============================] - 0s 2ms/step - loss: 0.6540 - accuracy: 0.6325\n",
            "Epoch 10/20\n",
            "16/16 [==============================] - 0s 2ms/step - loss: 0.6519 - accuracy: 0.6325\n",
            "Epoch 11/20\n",
            "16/16 [==============================] - 0s 2ms/step - loss: 0.6500 - accuracy: 0.6325\n",
            "Epoch 12/20\n",
            "16/16 [==============================] - 0s 2ms/step - loss: 0.6483 - accuracy: 0.6325\n",
            "Epoch 13/20\n",
            "16/16 [==============================] - 0s 2ms/step - loss: 0.6469 - accuracy: 0.6325\n",
            "Epoch 14/20\n",
            "16/16 [==============================] - 0s 2ms/step - loss: 0.6455 - accuracy: 0.6325\n",
            "Epoch 15/20\n",
            "16/16 [==============================] - 0s 2ms/step - loss: 0.6444 - accuracy: 0.6325\n",
            "Epoch 16/20\n",
            "16/16 [==============================] - 0s 2ms/step - loss: 0.6432 - accuracy: 0.6325\n",
            "Epoch 17/20\n",
            "16/16 [==============================] - 0s 1ms/step - loss: 0.6422 - accuracy: 0.6325\n",
            "Epoch 18/20\n",
            "16/16 [==============================] - 0s 2ms/step - loss: 0.6412 - accuracy: 0.6325\n",
            "Epoch 19/20\n",
            "16/16 [==============================] - 0s 2ms/step - loss: 0.6403 - accuracy: 0.6325\n",
            "Epoch 20/20\n",
            "16/16 [==============================] - 0s 1ms/step - loss: 0.6393 - accuracy: 0.6325\n"
          ]
        }
      ]
    },
    {
      "cell_type": "code",
      "source": [
        "# Evaluar el modelo\n",
        "scores = model.evaluate(X, Y)\n",
        "print(\"%s: %.2f%%\" % (model.metrics_names[1], scores[1]*100))\n",
        "print(X)\n",
        "Z=np.array([[0,89,66,23,94,28.1,0.167,21]])\n",
        "#Predicciones del Dataset, para comparar con el original Y\n",
        "#predicciones = model.predict(X, Batch Size: 25, verbose=0)\n",
        "#print(predicciones)\n"
      ],
      "metadata": {
        "colab": {
          "base_uri": "https://localhost:8080/"
        },
        "id": "uwov5f0btdgo",
        "outputId": "c2e861ba-c619-47e1-837b-45d7c893eab4"
      },
      "execution_count": null,
      "outputs": [
        {
          "output_type": "stream",
          "name": "stdout",
          "text": [
            "13/13 [==============================] - 0s 2ms/step - loss: 0.6388 - accuracy: 0.6325\n",
            "accuracy: 63.25%\n",
            "[[ 0.304877    0.215022    0.144937    0.609605    0.          0.67945205]\n",
            " [-0.08484     0.0800105   0.1649455   0.509755    0.          0.5890411 ]\n",
            " [-0.0302443   0.2747655   0.02494505  0.130456    0.          0.4630137 ]\n",
            " ...\n",
            " [ 0.1300725   0.3202365   0.0997555   0.319626    0.          0.55068493]\n",
            " [ 0.329792    0.4451165   0.349762    0.849724    0.25        0.71780822]\n",
            " [-0.0201592   0.0101568   0.289929    0.660146    0.25        0.57534247]]\n"
          ]
        }
      ]
    },
    {
      "cell_type": "code",
      "execution_count": null,
      "metadata": {
        "colab": {
          "base_uri": "https://localhost:8080/"
        },
        "id": "sUt6DNW6amHO",
        "outputId": "f87b4246-b2ef-4fa8-d2b4-8ad35fbd08dd"
      },
      "outputs": [
        {
          "output_type": "stream",
          "name": "stdout",
          "text": [
            "4/4 [==============================] - 0s 3ms/step - loss: 0.6453 - accuracy: 0.6300\n",
            "perdida= 0.6452503800392151\n",
            "presicion= 0.6299999952316284\n"
          ]
        }
      ],
      "source": [
        "tl, tc = model.evaluate(x,  y)\n",
        "print(\"perdida=\" ,tl )\n",
        "print(\"presicion=\" ,tc )"
      ]
    },
    {
      "cell_type": "code",
      "execution_count": null,
      "metadata": {
        "colab": {
          "base_uri": "https://localhost:8080/",
          "height": 312
        },
        "id": "9D5HIDUEcfiq",
        "outputId": "54da5a7e-63fc-42df-b1a0-66e430d51197"
      },
      "outputs": [
        {
          "output_type": "execute_result",
          "data": {
            "text/plain": [
              "Text(0.5, 0, 'Iteración')"
            ]
          },
          "metadata": {},
          "execution_count": 15
        },
        {
          "output_type": "display_data",
          "data": {
            "text/plain": [
              "<Figure size 432x288 with 1 Axes>"
            ],
            "image/png": "[encoded data removed]"
          },
          "metadata": {
            "needs_background": "light"
          }
        }
      ],
      "source": [
        "import matplotlib.pyplot as plt\n",
        "\n",
        "plt.plot(h.history['accuracy'])\n",
        "plt.title('Pérdida vs. iteraciones')\n",
        "plt.ylabel('Pérdida')\n",
        "plt.xlabel('Iteración')\n",
        "\n",
        "plt.plot(h.history['loss'])\n",
        "plt.title('Pérdida vs. iteraciones')\n",
        "plt.ylabel('Pérdida')\n",
        "plt.xlabel('Iteración')\n"
      ]
    }
  ],
  "metadata": {
    "colab": {
      "provenance": []
    },
    "kernelspec": {
      "display_name": "Python 3.8.8 ('base')",
      "language": "python",
      "name": "python3"
    },
    "language_info": {
      "codemirror_mode": {
        "name": "ipython",
        "version": 3
      },
      "file_extension": ".py",
      "mimetype": "text/x-python",
      "name": "python",
      "nbconvert_exporter": "python",
      "pygments_lexer": "ipython3",
      "version": "3.8.8"
    },
    "vscode": {
      "interpreter": {
        "hash": "ad2bdc8ecc057115af97d19610ffacc2b4e99fae6737bb82f5d7fb13d2f2c186"
      }
    }
  },
  "nbformat": 4,
  "nbformat_minor": 0
}