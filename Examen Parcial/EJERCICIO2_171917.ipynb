{
  "nbformat": 4,
  "nbformat_minor": 0,
  "metadata": {
    "colab": {
      "provenance": []
    },
    "kernelspec": {
      "name": "python3",
      "display_name": "Python 3"
    },
    "language_info": {
      "name": "python"
    }
  },
  "cells": [
    {
      "cell_type": "markdown",
      "source": [
        "\n",
        "Nombre: Sandro Ramos Banda  \n",
        "\n",
        "Codigo: 171917\n"
      ],
      "metadata": {
        "id": "3IlltIFqGdDM"
      }
    },
    {
      "cell_type": "code",
      "source": [
        "#LIBRERIAS\n",
        "from tensorflow.keras.datasets import mnist\n",
        "from tensorflow.keras.models import Sequential\n",
        "from tensorflow.keras.layers import Dense\n",
        "from tensorflow.keras.optimizers import SGD\n",
        "from keras.utils.np_utils import to_categorical\n",
        "from sklearn.preprocessing import MinMaxScaler\n",
        "import matplotlib.pyplot as plt\n",
        "from keras.layers.advanced_activations import LeakyReLU\n",
        "import numpy as np\n",
        "import pandas as pd"
      ],
      "metadata": {
        "id": "Q_Bc7Dj0nwpe"
      },
      "execution_count": null,
      "outputs": []
    },
    {
      "cell_type": "code",
      "source": [
        "#IMPORTAMOS EL DATASET\n",
        "dataset = pd.read_csv('/content/heladas_train.csv', sep=',',header=None)\n",
        "dataset.head(200)"
      ],
      "metadata": {
        "colab": {
          "base_uri": "https://localhost:8080/",
          "height": 424
        },
        "id": "BO82-mdsvu2v",
        "outputId": "6dc942fc-7451-4889-d95d-a0fa93d7fb81"
      },
      "execution_count": null,
      "outputs": [
        {
          "output_type": "execute_result",
          "data": {
            "text/plain": [
              "            0         1         2         3      4         5  6\n",
              "0    0.309834  0.024808  0.345034  0.859595  0.000  0.739726  0\n",
              "1   -0.300064 -0.290056  0.030243  0.169555  0.000  0.526027  1\n",
              "2    0.364995  0.204847  0.314858  0.760405  0.250  0.545205  0\n",
              "3   -0.060152  0.204794  0.259792  0.650101  0.000  0.542466  0\n",
              "4   -0.119802 -0.219979  0.034909  0.229922  0.000  0.531507  1\n",
              "..        ...       ...       ...       ...    ...       ... ..\n",
              "195 -0.024908  0.114774  0.190191  0.390008  0.875  0.438356  0\n",
              "196  0.040232  0.085185  0.365200  0.740491  0.000  0.427397  0\n",
              "197  0.025147  0.035027  0.315016  0.769982  0.750  0.558904  0\n",
              "198  0.324869  0.529925  0.299822  0.650318  0.000  0.509589  1\n",
              "199 -0.129841  0.179838  0.245007  0.859803  0.000  0.490411  0\n",
              "\n",
              "[200 rows x 7 columns]"
            ],
            "text/html": [
              "\n",
              "  <div id=\"df-e615ace6-47ef-4d72-bbfd-98721f55d092\">\n",
              "    <div class=\"colab-df-container\">\n",
              "      <div>\n",
              "<style scoped>\n",
              "    .dataframe tbody tr th:only-of-type {\n",
              "        vertical-align: middle;\n",
              "    }\n",
              "\n",
              "    .dataframe tbody tr th {\n",
              "        vertical-align: top;\n",
              "    }\n",
              "\n",
              "    .dataframe thead th {\n",
              "        text-align: right;\n",
              "    }\n",
              "</style>\n",
              "<table border=\"1\" class=\"dataframe\">\n",
              "  <thead>\n",
              "    <tr style=\"text-align: right;\">\n",
              "      <th></th>\n",
              "      <th>0</th>\n",
              "      <th>1</th>\n",
              "      <th>2</th>\n",
              "      <th>3</th>\n",
              "      <th>4</th>\n",
              "      <th>5</th>\n",
              "      <th>6</th>\n",
              "    </tr>\n",
              "  </thead>\n",
              "  <tbody>\n",
              "    <tr>\n",
              "      <th>0</th>\n",
              "      <td>0.309834</td>\n",
              "      <td>0.024808</td>\n",
              "      <td>0.345034</td>\n",
              "      <td>0.859595</td>\n",
              "      <td>0.000</td>\n",
              "      <td>0.739726</td>\n",
              "      <td>0</td>\n",
              "    </tr>\n",
              "    <tr>\n",
              "      <th>1</th>\n",
              "      <td>-0.300064</td>\n",
              "      <td>-0.290056</td>\n",
              "      <td>0.030243</td>\n",
              "      <td>0.169555</td>\n",
              "      <td>0.000</td>\n",
              "      <td>0.526027</td>\n",
              "      <td>1</td>\n",
              "    </tr>\n",
              "    <tr>\n",
              "      <th>2</th>\n",
              "      <td>0.364995</td>\n",
              "      <td>0.204847</td>\n",
              "      <td>0.314858</td>\n",
              "      <td>0.760405</td>\n",
              "      <td>0.250</td>\n",
              "      <td>0.545205</td>\n",
              "      <td>0</td>\n",
              "    </tr>\n",
              "    <tr>\n",
              "      <th>3</th>\n",
              "      <td>-0.060152</td>\n",
              "      <td>0.204794</td>\n",
              "      <td>0.259792</td>\n",
              "      <td>0.650101</td>\n",
              "      <td>0.000</td>\n",
              "      <td>0.542466</td>\n",
              "      <td>0</td>\n",
              "    </tr>\n",
              "    <tr>\n",
              "      <th>4</th>\n",
              "      <td>-0.119802</td>\n",
              "      <td>-0.219979</td>\n",
              "      <td>0.034909</td>\n",
              "      <td>0.229922</td>\n",
              "      <td>0.000</td>\n",
              "      <td>0.531507</td>\n",
              "      <td>1</td>\n",
              "    </tr>\n",
              "    <tr>\n",
              "      <th>...</th>\n",
              "      <td>...</td>\n",
              "      <td>...</td>\n",
              "      <td>...</td>\n",
              "      <td>...</td>\n",
              "      <td>...</td>\n",
              "      <td>...</td>\n",
              "      <td>...</td>\n",
              "    </tr>\n",
              "    <tr>\n",
              "      <th>195</th>\n",
              "      <td>-0.024908</td>\n",
              "      <td>0.114774</td>\n",
              "      <td>0.190191</td>\n",
              "      <td>0.390008</td>\n",
              "      <td>0.875</td>\n",
              "      <td>0.438356</td>\n",
              "      <td>0</td>\n",
              "    </tr>\n",
              "    <tr>\n",
              "      <th>196</th>\n",
              "      <td>0.040232</td>\n",
              "      <td>0.085185</td>\n",
              "      <td>0.365200</td>\n",
              "      <td>0.740491</td>\n",
              "      <td>0.000</td>\n",
              "      <td>0.427397</td>\n",
              "      <td>0</td>\n",
              "    </tr>\n",
              "    <tr>\n",
              "      <th>197</th>\n",
              "      <td>0.025147</td>\n",
              "      <td>0.035027</td>\n",
              "      <td>0.315016</td>\n",
              "      <td>0.769982</td>\n",
              "      <td>0.750</td>\n",
              "      <td>0.558904</td>\n",
              "      <td>0</td>\n",
              "    </tr>\n",
              "    <tr>\n",
              "      <th>198</th>\n",
              "      <td>0.324869</td>\n",
              "      <td>0.529925</td>\n",
              "      <td>0.299822</td>\n",
              "      <td>0.650318</td>\n",
              "      <td>0.000</td>\n",
              "      <td>0.509589</td>\n",
              "      <td>1</td>\n",
              "    </tr>\n",
              "    <tr>\n",
              "      <th>199</th>\n",
              "      <td>-0.129841</td>\n",
              "      <td>0.179838</td>\n",
              "      <td>0.245007</td>\n",
              "      <td>0.859803</td>\n",
              "      <td>0.000</td>\n",
              "      <td>0.490411</td>\n",
              "      <td>0</td>\n",
              "    </tr>\n",
              "  </tbody>\n",
              "</table>\n",
              "<p>200 rows × 7 columns</p>\n",
              "</div>\n",
              "      <button class=\"colab-df-convert\" onclick=\"convertToInteractive('df-e615ace6-47ef-4d72-bbfd-98721f55d092')\"\n",
              "              title=\"Convert this dataframe to an interactive table.\"\n",
              "              style=\"display:none;\">\n",
              "        \n",
              "  <svg xmlns=\"http://www.w3.org/2000/svg\" height=\"24px\"viewBox=\"0 0 24 24\"\n",
              "       width=\"24px\">\n",
              "    <path d=\"M0 0h24v24H0V0z\" fill=\"none\"/>\n",
              "    <path d=\"M18.56 5.44l.94 2.06.94-2.06 2.06-.94-2.06-.94-.94-2.06-.94 2.06-2.06.94zm-11 1L8.5 8.5l.94-2.06 2.06-.94-2.06-.94L8.5 2.5l-.94 2.06-2.06.94zm10 10l.94 2.06.94-2.06 2.06-.94-2.06-.94-.94-2.06-.94 2.06-2.06.94z\"/><path d=\"M17.41 7.96l-1.37-1.37c-.4-.4-.92-.59-1.43-.59-.52 0-1.04.2-1.43.59L10.3 9.45l-7.72 7.72c-.78.78-.78 2.05 0 2.83L4 21.41c.39.39.9.59 1.41.59.51 0 1.02-.2 1.41-.59l7.78-7.78 2.81-2.81c.8-.78.8-2.07 0-2.86zM5.41 20L4 18.59l7.72-7.72 1.47 1.35L5.41 20z\"/>\n",
              "  </svg>\n",
              "      </button>\n",
              "      \n",
              "  <style>\n",
              "    .colab-df-container {\n",
              "      display:flex;\n",
              "      flex-wrap:wrap;\n",
              "      gap: 12px;\n",
              "    }\n",
              "\n",
              "    .colab-df-convert {\n",
              "      background-color: #E8F0FE;\n",
              "      border: none;\n",
              "      border-radius: 50%;\n",
              "      cursor: pointer;\n",
              "      display: none;\n",
              "      fill: #1967D2;\n",
              "      height: 32px;\n",
              "      padding: 0 0 0 0;\n",
              "      width: 32px;\n",
              "    }\n",
              "\n",
              "    .colab-df-convert:hover {\n",
              "      background-color: #E2EBFA;\n",
              "      box-shadow: 0px 1px 2px rgba(60, 64, 67, 0.3), 0px 1px 3px 1px rgba(60, 64, 67, 0.15);\n",
              "      fill: #174EA6;\n",
              "    }\n",
              "\n",
              "    [theme=dark] .colab-df-convert {\n",
              "      background-color: #3B4455;\n",
              "      fill: #D2E3FC;\n",
              "    }\n",
              "\n",
              "    [theme=dark] .colab-df-convert:hover {\n",
              "      background-color: #434B5C;\n",
              "      box-shadow: 0px 1px 3px 1px rgba(0, 0, 0, 0.15);\n",
              "      filter: drop-shadow(0px 1px 2px rgba(0, 0, 0, 0.3));\n",
              "      fill: #FFFFFF;\n",
              "    }\n",
              "  </style>\n",
              "\n",
              "      <script>\n",
              "        const buttonEl =\n",
              "          document.querySelector('#df-e615ace6-47ef-4d72-bbfd-98721f55d092 button.colab-df-convert');\n",
              "        buttonEl.style.display =\n",
              "          google.colab.kernel.accessAllowed ? 'block' : 'none';\n",
              "\n",
              "        async function convertToInteractive(key) {\n",
              "          const element = document.querySelector('#df-e615ace6-47ef-4d72-bbfd-98721f55d092');\n",
              "          const dataTable =\n",
              "            await google.colab.kernel.invokeFunction('convertToInteractive',\n",
              "                                                     [key], {});\n",
              "          if (!dataTable) return;\n",
              "\n",
              "          const docLinkHtml = 'Like what you see? Visit the ' +\n",
              "            '<a target=\"_blank\" href=https://colab.research.google.com/notebooks/data_table.ipynb>data table notebook</a>'\n",
              "            + ' to learn more about interactive tables.';\n",
              "          element.innerHTML = '';\n",
              "          dataTable['output_type'] = 'display_data';\n",
              "          await google.colab.output.renderOutput(dataTable, element);\n",
              "          const docLink = document.createElement('div');\n",
              "          docLink.innerHTML = docLinkHtml;\n",
              "          element.appendChild(docLink);\n",
              "        }\n",
              "      </script>\n",
              "    </div>\n",
              "  </div>\n",
              "  "
            ]
          },
          "metadata": {},
          "execution_count": 14
        }
      ]
    },
    {
      "cell_type": "code",
      "source": [
        "X = dataset.drop([6], axis=1)\n",
        "y = dataset[6]"
      ],
      "metadata": {
        "id": "Zm-1g_Ewwlo1"
      },
      "execution_count": null,
      "outputs": []
    },
    {
      "cell_type": "code",
      "source": [
        "from sklearn.model_selection import train_test_split\n",
        "x_train, x_test, y_train, y_test = train_test_split(X, y, test_size=0.20, random_state=1)"
      ],
      "metadata": {
        "id": "RDEt0Arvvazl"
      },
      "execution_count": null,
      "outputs": []
    },
    {
      "cell_type": "code",
      "source": [
        "# Adicionalmente se normalizarán las intensidades al rango 0-1\n",
        "scaler = MinMaxScaler()\n",
        "X_train = scaler.fit_transform(x_train)\n",
        "X_test = scaler.transform(x_test)\n"
      ],
      "metadata": {
        "id": "ufVV63jqzAYq"
      },
      "execution_count": null,
      "outputs": []
    },
    {
      "cell_type": "markdown",
      "source": [
        "**VARIABLES DE ENTRADA QUE SE NOS PROPORCIONO **"
      ],
      "metadata": {
        "id": "k4_XFmfnivcN"
      }
    },
    {
      "cell_type": "code",
      "source": [
        "\n",
        "modelo = Sequential()\n",
        "\n",
        "# Capa de entrada: 11 neuronas\n",
        "# segunda capa 500 neuronas\n",
        "# RELU que reemplaza valores negativos por CEROS\n",
        "modelo.add(Dense(20, input_dim=6, activation='relu'))\n",
        "\n",
        "modelo.add(Dense(1, activation='softmax')) \n",
        "# sumario\n",
        "modelo.summary()\n"
      ],
      "metadata": {
        "id": "v-X-RQw3zGMR",
        "colab": {
          "base_uri": "https://localhost:8080/"
        },
        "outputId": "9d89b270-0fe6-47f4-e5e3-ff875347d734"
      },
      "execution_count": null,
      "outputs": [
        {
          "output_type": "stream",
          "name": "stdout",
          "text": [
            "Model: \"sequential\"\n",
            "_________________________________________________________________\n",
            " Layer (type)                Output Shape              Param #   \n",
            "=================================================================\n",
            " dense (Dense)               (None, 20)                140       \n",
            "                                                                 \n",
            " dense_1 (Dense)             (None, 1)                 21        \n",
            "                                                                 \n",
            "=================================================================\n",
            "Total params: 161\n",
            "Trainable params: 161\n",
            "Non-trainable params: 0\n",
            "_________________________________________________________________\n"
          ]
        }
      ]
    },
    {
      "cell_type": "code",
      "source": [
        "\n",
        "#GRADIENTE DESCENDENTE ESTOCASTICA SGD\n",
        "sgd = SGD(learning_rate=0.01)\n",
        "modelo.compile(loss='categorical_crossentropy', optimizer=sgd, metrics=['accuracy'])\n",
        "# EPOCAS= 20\n",
        "#BATCH SIZE = 25\n",
        "num_epochs =20\n",
        "batch_size = 25\n",
        "historia = modelo.fit(X_train, y_train, epochs=num_epochs, batch_size=batch_size)\n"
      ],
      "metadata": {
        "colab": {
          "base_uri": "https://localhost:8080/"
        },
        "id": "FZWDvqd_zKDW",
        "outputId": "26e36cbe-54b9-4288-ba8d-a33be1a7d84d"
      },
      "execution_count": null,
      "outputs": [
        {
          "output_type": "stream",
          "name": "stdout",
          "text": [
            "Epoch 1/20\n",
            "16/16 [==============================] - 1s 2ms/step - loss: 0.0000e+00 - accuracy: 0.3650\n",
            "Epoch 2/20\n",
            "16/16 [==============================] - 0s 2ms/step - loss: 0.0000e+00 - accuracy: 0.3650\n",
            "Epoch 3/20\n",
            "16/16 [==============================] - 0s 2ms/step - loss: 0.0000e+00 - accuracy: 0.3650\n",
            "Epoch 4/20\n",
            "16/16 [==============================] - 0s 2ms/step - loss: 0.0000e+00 - accuracy: 0.3650\n",
            "Epoch 5/20\n",
            "16/16 [==============================] - 0s 2ms/step - loss: 0.0000e+00 - accuracy: 0.3650\n",
            "Epoch 6/20\n",
            "16/16 [==============================] - 0s 3ms/step - loss: 0.0000e+00 - accuracy: 0.3650\n",
            "Epoch 7/20\n",
            "16/16 [==============================] - 0s 2ms/step - loss: 0.0000e+00 - accuracy: 0.3650\n",
            "Epoch 8/20\n",
            "16/16 [==============================] - 0s 2ms/step - loss: 0.0000e+00 - accuracy: 0.3650\n",
            "Epoch 9/20\n",
            "16/16 [==============================] - 0s 3ms/step - loss: 0.0000e+00 - accuracy: 0.3650\n",
            "Epoch 10/20\n",
            "16/16 [==============================] - 0s 2ms/step - loss: 0.0000e+00 - accuracy: 0.3650\n",
            "Epoch 11/20\n",
            "16/16 [==============================] - 0s 2ms/step - loss: 0.0000e+00 - accuracy: 0.3650\n",
            "Epoch 12/20\n",
            "16/16 [==============================] - 0s 3ms/step - loss: 0.0000e+00 - accuracy: 0.3650\n",
            "Epoch 13/20\n",
            "16/16 [==============================] - 0s 2ms/step - loss: 0.0000e+00 - accuracy: 0.3650\n",
            "Epoch 14/20\n",
            "16/16 [==============================] - 0s 2ms/step - loss: 0.0000e+00 - accuracy: 0.3650\n",
            "Epoch 15/20\n",
            "16/16 [==============================] - 0s 2ms/step - loss: 0.0000e+00 - accuracy: 0.3650\n",
            "Epoch 16/20\n",
            "16/16 [==============================] - 0s 2ms/step - loss: 0.0000e+00 - accuracy: 0.3650\n",
            "Epoch 17/20\n",
            "16/16 [==============================] - 0s 3ms/step - loss: 0.0000e+00 - accuracy: 0.3650\n",
            "Epoch 18/20\n",
            "16/16 [==============================] - 0s 2ms/step - loss: 0.0000e+00 - accuracy: 0.3650\n",
            "Epoch 19/20\n",
            "16/16 [==============================] - 0s 3ms/step - loss: 0.0000e+00 - accuracy: 0.3650\n",
            "Epoch 20/20\n",
            "16/16 [==============================] - 0s 2ms/step - loss: 0.0000e+00 - accuracy: 0.3650\n"
          ]
        }
      ]
    },
    {
      "cell_type": "markdown",
      "source": [
        "**GRAFICAS VS**"
      ],
      "metadata": {
        "id": "FVnp-fSXicIK"
      }
    },
    {
      "cell_type": "code",
      "source": [
        "plt.subplot(1,2,1)\n",
        "plt.plot(historia.history['loss'])\n",
        "plt.title('Pérdida vs. iteraciones')\n",
        "plt.ylabel('Pérdida')\n",
        "plt.xlabel('Iteración')\n",
        "\n",
        "plt.subplot(1,2,2)\n",
        "plt.plot(historia.history['accuracy'])\n",
        "plt.title('Exactitud vs. iteraciones')\n",
        "plt.ylabel('Exactitud')\n",
        "plt.xlabel('Iteración')\n",
        "\n",
        "plt.show()"
      ],
      "metadata": {
        "id": "bDFuYhqVzNDb",
        "colab": {
          "base_uri": "https://localhost:8080/",
          "height": 295
        },
        "outputId": "1f1bb687-a8fa-4b22-df4e-37cb3d6f54d4"
      },
      "execution_count": null,
      "outputs": [
        {
          "output_type": "display_data",
          "data": {
            "text/plain": [
              "<Figure size 432x288 with 2 Axes>"
            ],
            "image/png": "[encoded data removed]"
          },
          "metadata": {
            "needs_background": "light"
          }
        }
      ]
    },
    {
      "cell_type": "markdown",
      "source": [
        "**PRECISION**"
      ],
      "metadata": {
        "id": "IWp2zWcJih2i"
      }
    },
    {
      "cell_type": "code",
      "source": [
        "# Calcular la precisión sobre el set de validación\n",
        "puntaje = modelo.evaluate(X_test,y_test,verbose=0)\n",
        "print('Precisión en el set de validación: {:.1f}%'.format(100*puntaje[1]))\n"
      ],
      "metadata": {
        "id": "61A9IVATzQsz",
        "colab": {
          "base_uri": "https://localhost:8080/"
        },
        "outputId": "6e69e4a9-2dc6-4958-c4a2-9da1334f9787"
      },
      "execution_count": null,
      "outputs": [
        {
          "output_type": "stream",
          "name": "stdout",
          "text": [
            "Precisión en el set de validación: 38.0%\n"
          ]
        }
      ]
    },
    {
      "cell_type": "markdown",
      "source": [
        "**EJEMPLOS Y LA EXACTITUD DEL ENTRENAMIENTO**"
      ],
      "metadata": {
        "id": "biSflaR4ik2y"
      }
    },
    {
      "cell_type": "code",
      "source": [
        "# Realizar predicción sobre el set de validación y mostrar algunos ejemplos\n",
        "# de la clasificación resultante\n",
        "metrica = modelo.evaluate(X_test, y_test)\n",
        "print('Exactitud: ', metrica[1])\n",
        "\n"
      ],
      "metadata": {
        "id": "9A8uUBH7zUtz",
        "colab": {
          "base_uri": "https://localhost:8080/"
        },
        "outputId": "d9966d3c-4319-4c1a-ae84-2c061395869c"
      },
      "execution_count": null,
      "outputs": [
        {
          "output_type": "stream",
          "name": "stdout",
          "text": [
            "4/4 [==============================] - 0s 6ms/step - loss: 0.0000e+00 - accuracy: 0.3800\n",
            "Exactitud:  0.3799999952316284\n"
          ]
        }
      ]
    }
  ]
}